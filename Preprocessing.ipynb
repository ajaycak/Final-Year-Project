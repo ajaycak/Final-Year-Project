{
  "cells": [
    {
      "cell_type": "markdown",
      "id": "d6076e87",
      "metadata": {
        "id": "d6076e87",
        "papermill": {
          "duration": 0.071932,
          "end_time": "2022-04-18T20:52:19.272106",
          "exception": false,
          "start_time": "2022-04-18T20:52:19.200174",
          "status": "completed"
        },
        "tags": []
      },
      "source": [
        "# Crop Yield Prediction\n",
        "\n",
        "The science of training machines to learn and produce models for future predictions is widely used, and not for nothing.\n",
        "Agriculture plays a critical role in the global economy. With the continuing expansion of the human population understanding worldwide crop yield is central to addressing food security challenges and reducing the impacts of climate change.\n",
        "\n",
        "Crop yield prediction is an important agricultural problem. The Agricultural yield primarily depends on <i><b>weather conditions (rain, temperature, etc)</b></i>, pesticides and accurate information about history of crop yield is an important thing for making decisions related to agricultural risk management and future predictions.  The basic ingredients that sustain humans are similar. We eat a lot of corn, wheat, rice and other simple crops. In this paper the prediction of <b>top 10 most consumed yields all over the world</b> is established by applying machine learning techniques. It consists of 10 most consumed crops. It is a regression problem\n",
        "\n",
        " These crops include :\n",
        "\n",
        "- Cassava                \n",
        "- Maize                  \n",
        "- Plantains and others   \n",
        "- Potatoes                \n",
        "- Rice, paddy             \n",
        "- Sorghum                \n",
        "- Soybeans               \n",
        "- Sweet potatoes       \n",
        "- Wheat                  \n",
        "- Yams             "
      ]
    },
    {
      "cell_type": "markdown",
      "id": "7b7ea399",
      "metadata": {
        "id": "7b7ea399",
        "papermill": {
          "duration": 0.067058,
          "end_time": "2022-04-18T20:52:19.406632",
          "exception": false,
          "start_time": "2022-04-18T20:52:19.339574",
          "status": "completed"
        },
        "tags": []
      },
      "source": [
        "# Gathering & Cleaning Data\n",
        "\n",
        "### Crops Yield Data:\n",
        "\n",
        "\n",
        "\n",
        "After importing required libraries, crops yield of ten most consumed crops around the world was downloaded from FAO webiste.The collected data include country, item, year starting from 1961 to 2016 and yield value."
      ]
    },
    {
      "cell_type": "code",
      "execution_count": 1,
      "id": "5cc3c54d",
      "metadata": {
        "execution": {
          "iopub.execute_input": "2022-04-18T20:52:19.552660Z",
          "iopub.status.busy": "2022-04-18T20:52:19.552023Z",
          "iopub.status.idle": "2022-04-18T20:52:19.556984Z",
          "shell.execute_reply": "2022-04-18T20:52:19.556203Z"
        },
        "id": "5cc3c54d",
        "papermill": {
          "duration": 0.083818,
          "end_time": "2022-04-18T20:52:19.557167",
          "exception": false,
          "start_time": "2022-04-18T20:52:19.473349",
          "status": "completed"
        },
        "tags": []
      },
      "outputs": [],
      "source": [
        "import numpy as np\n",
        "import pandas as pd"
      ]
    },
    {
      "cell_type": "code",
      "execution_count": 2,
      "id": "1933b94c",
      "metadata": {
        "colab": {
          "base_uri": "https://localhost:8080/"
        },
        "execution": {
          "iopub.execute_input": "2022-04-18T20:52:19.704656Z",
          "iopub.status.busy": "2022-04-18T20:52:19.703932Z",
          "iopub.status.idle": "2022-04-18T20:52:19.851168Z",
          "shell.execute_reply": "2022-04-18T20:52:19.851692Z",
          "shell.execute_reply.started": "2022-04-18T18:46:45.995348Z"
        },
        "id": "1933b94c",
        "outputId": "c709fa13-3aed-405d-d469-e0b90a9dc8a9",
        "papermill": {
          "duration": 0.222081,
          "end_time": "2022-04-18T20:52:19.851865",
          "exception": false,
          "start_time": "2022-04-18T20:52:19.629784",
          "status": "completed"
        },
        "tags": []
      },
      "outputs": [
        {
          "data": {
            "text/plain": [
              "(56717, 12)"
            ]
          },
          "execution_count": 2,
          "metadata": {},
          "output_type": "execute_result"
        }
      ],
      "source": [
        "df_yield = pd.read_csv(r\"C:\\Users\\Harsh Gupta\\OneDrive\\Desktop\\Capstone\\Project\\Dataset\\yield.csv\")\n",
        "df_yield.shape"
      ]
    },
    {
      "cell_type": "code",
      "execution_count": 3,
      "id": "07f97238",
      "metadata": {
        "colab": {
          "base_uri": "https://localhost:8080/",
          "height": 206
        },
        "execution": {
          "iopub.execute_input": "2022-04-18T20:52:19.995744Z",
          "iopub.status.busy": "2022-04-18T20:52:19.994642Z",
          "iopub.status.idle": "2022-04-18T20:52:20.018161Z",
          "shell.execute_reply": "2022-04-18T20:52:20.018841Z",
          "shell.execute_reply.started": "2022-04-18T18:46:48.559223Z"
        },
        "id": "07f97238",
        "outputId": "9cd7042a-2388-4d5c-ee0d-3c3130546593",
        "papermill": {
          "duration": 0.097573,
          "end_time": "2022-04-18T20:52:20.019046",
          "exception": false,
          "start_time": "2022-04-18T20:52:19.921473",
          "status": "completed"
        },
        "scrolled": true,
        "tags": []
      },
      "outputs": [
        {
          "data": {
            "text/html": [
              "<div>\n",
              "<style scoped>\n",
              "    .dataframe tbody tr th:only-of-type {\n",
              "        vertical-align: middle;\n",
              "    }\n",
              "\n",
              "    .dataframe tbody tr th {\n",
              "        vertical-align: top;\n",
              "    }\n",
              "\n",
              "    .dataframe thead th {\n",
              "        text-align: right;\n",
              "    }\n",
              "</style>\n",
              "<table border=\"1\" class=\"dataframe\">\n",
              "  <thead>\n",
              "    <tr style=\"text-align: right;\">\n",
              "      <th></th>\n",
              "      <th>Domain Code</th>\n",
              "      <th>Domain</th>\n",
              "      <th>Area Code</th>\n",
              "      <th>Area</th>\n",
              "      <th>Element Code</th>\n",
              "      <th>Element</th>\n",
              "      <th>Item Code</th>\n",
              "      <th>Item</th>\n",
              "      <th>Year Code</th>\n",
              "      <th>Year</th>\n",
              "      <th>Unit</th>\n",
              "      <th>Value</th>\n",
              "    </tr>\n",
              "  </thead>\n",
              "  <tbody>\n",
              "    <tr>\n",
              "      <th>0</th>\n",
              "      <td>QC</td>\n",
              "      <td>Crops</td>\n",
              "      <td>2</td>\n",
              "      <td>Afghanistan</td>\n",
              "      <td>5419</td>\n",
              "      <td>Yield</td>\n",
              "      <td>56</td>\n",
              "      <td>Maize</td>\n",
              "      <td>1961</td>\n",
              "      <td>1961</td>\n",
              "      <td>hg/ha</td>\n",
              "      <td>14000</td>\n",
              "    </tr>\n",
              "    <tr>\n",
              "      <th>1</th>\n",
              "      <td>QC</td>\n",
              "      <td>Crops</td>\n",
              "      <td>2</td>\n",
              "      <td>Afghanistan</td>\n",
              "      <td>5419</td>\n",
              "      <td>Yield</td>\n",
              "      <td>56</td>\n",
              "      <td>Maize</td>\n",
              "      <td>1962</td>\n",
              "      <td>1962</td>\n",
              "      <td>hg/ha</td>\n",
              "      <td>14000</td>\n",
              "    </tr>\n",
              "    <tr>\n",
              "      <th>2</th>\n",
              "      <td>QC</td>\n",
              "      <td>Crops</td>\n",
              "      <td>2</td>\n",
              "      <td>Afghanistan</td>\n",
              "      <td>5419</td>\n",
              "      <td>Yield</td>\n",
              "      <td>56</td>\n",
              "      <td>Maize</td>\n",
              "      <td>1963</td>\n",
              "      <td>1963</td>\n",
              "      <td>hg/ha</td>\n",
              "      <td>14260</td>\n",
              "    </tr>\n",
              "    <tr>\n",
              "      <th>3</th>\n",
              "      <td>QC</td>\n",
              "      <td>Crops</td>\n",
              "      <td>2</td>\n",
              "      <td>Afghanistan</td>\n",
              "      <td>5419</td>\n",
              "      <td>Yield</td>\n",
              "      <td>56</td>\n",
              "      <td>Maize</td>\n",
              "      <td>1964</td>\n",
              "      <td>1964</td>\n",
              "      <td>hg/ha</td>\n",
              "      <td>14257</td>\n",
              "    </tr>\n",
              "    <tr>\n",
              "      <th>4</th>\n",
              "      <td>QC</td>\n",
              "      <td>Crops</td>\n",
              "      <td>2</td>\n",
              "      <td>Afghanistan</td>\n",
              "      <td>5419</td>\n",
              "      <td>Yield</td>\n",
              "      <td>56</td>\n",
              "      <td>Maize</td>\n",
              "      <td>1965</td>\n",
              "      <td>1965</td>\n",
              "      <td>hg/ha</td>\n",
              "      <td>14400</td>\n",
              "    </tr>\n",
              "  </tbody>\n",
              "</table>\n",
              "</div>"
            ],
            "text/plain": [
              "  Domain Code Domain  Area Code         Area  Element Code Element  Item Code  \\\n",
              "0          QC  Crops          2  Afghanistan          5419   Yield         56   \n",
              "1          QC  Crops          2  Afghanistan          5419   Yield         56   \n",
              "2          QC  Crops          2  Afghanistan          5419   Yield         56   \n",
              "3          QC  Crops          2  Afghanistan          5419   Yield         56   \n",
              "4          QC  Crops          2  Afghanistan          5419   Yield         56   \n",
              "\n",
              "    Item  Year Code  Year   Unit  Value  \n",
              "0  Maize       1961  1961  hg/ha  14000  \n",
              "1  Maize       1962  1962  hg/ha  14000  \n",
              "2  Maize       1963  1963  hg/ha  14260  \n",
              "3  Maize       1964  1964  hg/ha  14257  \n",
              "4  Maize       1965  1965  hg/ha  14400  "
            ]
          },
          "execution_count": 3,
          "metadata": {},
          "output_type": "execute_result"
        }
      ],
      "source": [
        "df_yield.head()"
      ]
    },
    {
      "cell_type": "code",
      "execution_count": 4,
      "id": "30a5e229",
      "metadata": {
        "colab": {
          "base_uri": "https://localhost:8080/",
          "height": 363
        },
        "execution": {
          "iopub.execute_input": "2022-04-18T20:52:20.177656Z",
          "iopub.status.busy": "2022-04-18T20:52:20.176629Z",
          "iopub.status.idle": "2022-04-18T20:52:20.180518Z",
          "shell.execute_reply": "2022-04-18T20:52:20.181028Z",
          "shell.execute_reply.started": "2022-04-18T18:46:50.847614Z"
        },
        "id": "30a5e229",
        "outputId": "7747f55e-dc0c-47ef-8093-7c64509504e6",
        "papermill": {
          "duration": 0.093166,
          "end_time": "2022-04-18T20:52:20.181226",
          "exception": false,
          "start_time": "2022-04-18T20:52:20.088060",
          "status": "completed"
        },
        "scrolled": true,
        "tags": []
      },
      "outputs": [
        {
          "data": {
            "text/html": [
              "<div>\n",
              "<style scoped>\n",
              "    .dataframe tbody tr th:only-of-type {\n",
              "        vertical-align: middle;\n",
              "    }\n",
              "\n",
              "    .dataframe tbody tr th {\n",
              "        vertical-align: top;\n",
              "    }\n",
              "\n",
              "    .dataframe thead th {\n",
              "        text-align: right;\n",
              "    }\n",
              "</style>\n",
              "<table border=\"1\" class=\"dataframe\">\n",
              "  <thead>\n",
              "    <tr style=\"text-align: right;\">\n",
              "      <th></th>\n",
              "      <th>Domain Code</th>\n",
              "      <th>Domain</th>\n",
              "      <th>Area Code</th>\n",
              "      <th>Area</th>\n",
              "      <th>Element Code</th>\n",
              "      <th>Element</th>\n",
              "      <th>Item Code</th>\n",
              "      <th>Item</th>\n",
              "      <th>Year Code</th>\n",
              "      <th>Year</th>\n",
              "      <th>Unit</th>\n",
              "      <th>Value</th>\n",
              "    </tr>\n",
              "  </thead>\n",
              "  <tbody>\n",
              "    <tr>\n",
              "      <th>56707</th>\n",
              "      <td>QC</td>\n",
              "      <td>Crops</td>\n",
              "      <td>181</td>\n",
              "      <td>Zimbabwe</td>\n",
              "      <td>5419</td>\n",
              "      <td>Yield</td>\n",
              "      <td>15</td>\n",
              "      <td>Wheat</td>\n",
              "      <td>2007</td>\n",
              "      <td>2007</td>\n",
              "      <td>hg/ha</td>\n",
              "      <td>29998</td>\n",
              "    </tr>\n",
              "    <tr>\n",
              "      <th>56708</th>\n",
              "      <td>QC</td>\n",
              "      <td>Crops</td>\n",
              "      <td>181</td>\n",
              "      <td>Zimbabwe</td>\n",
              "      <td>5419</td>\n",
              "      <td>Yield</td>\n",
              "      <td>15</td>\n",
              "      <td>Wheat</td>\n",
              "      <td>2008</td>\n",
              "      <td>2008</td>\n",
              "      <td>hg/ha</td>\n",
              "      <td>30097</td>\n",
              "    </tr>\n",
              "    <tr>\n",
              "      <th>56709</th>\n",
              "      <td>QC</td>\n",
              "      <td>Crops</td>\n",
              "      <td>181</td>\n",
              "      <td>Zimbabwe</td>\n",
              "      <td>5419</td>\n",
              "      <td>Yield</td>\n",
              "      <td>15</td>\n",
              "      <td>Wheat</td>\n",
              "      <td>2009</td>\n",
              "      <td>2009</td>\n",
              "      <td>hg/ha</td>\n",
              "      <td>30000</td>\n",
              "    </tr>\n",
              "    <tr>\n",
              "      <th>56710</th>\n",
              "      <td>QC</td>\n",
              "      <td>Crops</td>\n",
              "      <td>181</td>\n",
              "      <td>Zimbabwe</td>\n",
              "      <td>5419</td>\n",
              "      <td>Yield</td>\n",
              "      <td>15</td>\n",
              "      <td>Wheat</td>\n",
              "      <td>2010</td>\n",
              "      <td>2010</td>\n",
              "      <td>hg/ha</td>\n",
              "      <td>27681</td>\n",
              "    </tr>\n",
              "    <tr>\n",
              "      <th>56711</th>\n",
              "      <td>QC</td>\n",
              "      <td>Crops</td>\n",
              "      <td>181</td>\n",
              "      <td>Zimbabwe</td>\n",
              "      <td>5419</td>\n",
              "      <td>Yield</td>\n",
              "      <td>15</td>\n",
              "      <td>Wheat</td>\n",
              "      <td>2011</td>\n",
              "      <td>2011</td>\n",
              "      <td>hg/ha</td>\n",
              "      <td>26274</td>\n",
              "    </tr>\n",
              "    <tr>\n",
              "      <th>56712</th>\n",
              "      <td>QC</td>\n",
              "      <td>Crops</td>\n",
              "      <td>181</td>\n",
              "      <td>Zimbabwe</td>\n",
              "      <td>5419</td>\n",
              "      <td>Yield</td>\n",
              "      <td>15</td>\n",
              "      <td>Wheat</td>\n",
              "      <td>2012</td>\n",
              "      <td>2012</td>\n",
              "      <td>hg/ha</td>\n",
              "      <td>24420</td>\n",
              "    </tr>\n",
              "    <tr>\n",
              "      <th>56713</th>\n",
              "      <td>QC</td>\n",
              "      <td>Crops</td>\n",
              "      <td>181</td>\n",
              "      <td>Zimbabwe</td>\n",
              "      <td>5419</td>\n",
              "      <td>Yield</td>\n",
              "      <td>15</td>\n",
              "      <td>Wheat</td>\n",
              "      <td>2013</td>\n",
              "      <td>2013</td>\n",
              "      <td>hg/ha</td>\n",
              "      <td>22888</td>\n",
              "    </tr>\n",
              "    <tr>\n",
              "      <th>56714</th>\n",
              "      <td>QC</td>\n",
              "      <td>Crops</td>\n",
              "      <td>181</td>\n",
              "      <td>Zimbabwe</td>\n",
              "      <td>5419</td>\n",
              "      <td>Yield</td>\n",
              "      <td>15</td>\n",
              "      <td>Wheat</td>\n",
              "      <td>2014</td>\n",
              "      <td>2014</td>\n",
              "      <td>hg/ha</td>\n",
              "      <td>21357</td>\n",
              "    </tr>\n",
              "    <tr>\n",
              "      <th>56715</th>\n",
              "      <td>QC</td>\n",
              "      <td>Crops</td>\n",
              "      <td>181</td>\n",
              "      <td>Zimbabwe</td>\n",
              "      <td>5419</td>\n",
              "      <td>Yield</td>\n",
              "      <td>15</td>\n",
              "      <td>Wheat</td>\n",
              "      <td>2015</td>\n",
              "      <td>2015</td>\n",
              "      <td>hg/ha</td>\n",
              "      <td>19826</td>\n",
              "    </tr>\n",
              "    <tr>\n",
              "      <th>56716</th>\n",
              "      <td>QC</td>\n",
              "      <td>Crops</td>\n",
              "      <td>181</td>\n",
              "      <td>Zimbabwe</td>\n",
              "      <td>5419</td>\n",
              "      <td>Yield</td>\n",
              "      <td>15</td>\n",
              "      <td>Wheat</td>\n",
              "      <td>2016</td>\n",
              "      <td>2016</td>\n",
              "      <td>hg/ha</td>\n",
              "      <td>18294</td>\n",
              "    </tr>\n",
              "  </tbody>\n",
              "</table>\n",
              "</div>"
            ],
            "text/plain": [
              "      Domain Code Domain  Area Code      Area  Element Code Element  \\\n",
              "56707          QC  Crops        181  Zimbabwe          5419   Yield   \n",
              "56708          QC  Crops        181  Zimbabwe          5419   Yield   \n",
              "56709          QC  Crops        181  Zimbabwe          5419   Yield   \n",
              "56710          QC  Crops        181  Zimbabwe          5419   Yield   \n",
              "56711          QC  Crops        181  Zimbabwe          5419   Yield   \n",
              "56712          QC  Crops        181  Zimbabwe          5419   Yield   \n",
              "56713          QC  Crops        181  Zimbabwe          5419   Yield   \n",
              "56714          QC  Crops        181  Zimbabwe          5419   Yield   \n",
              "56715          QC  Crops        181  Zimbabwe          5419   Yield   \n",
              "56716          QC  Crops        181  Zimbabwe          5419   Yield   \n",
              "\n",
              "       Item Code   Item  Year Code  Year   Unit  Value  \n",
              "56707         15  Wheat       2007  2007  hg/ha  29998  \n",
              "56708         15  Wheat       2008  2008  hg/ha  30097  \n",
              "56709         15  Wheat       2009  2009  hg/ha  30000  \n",
              "56710         15  Wheat       2010  2010  hg/ha  27681  \n",
              "56711         15  Wheat       2011  2011  hg/ha  26274  \n",
              "56712         15  Wheat       2012  2012  hg/ha  24420  \n",
              "56713         15  Wheat       2013  2013  hg/ha  22888  \n",
              "56714         15  Wheat       2014  2014  hg/ha  21357  \n",
              "56715         15  Wheat       2015  2015  hg/ha  19826  \n",
              "56716         15  Wheat       2016  2016  hg/ha  18294  "
            ]
          },
          "execution_count": 4,
          "metadata": {},
          "output_type": "execute_result"
        }
      ],
      "source": [
        "df_yield.tail(10)"
      ]
    },
    {
      "cell_type": "markdown",
      "id": "ece2b35c",
      "metadata": {
        "id": "ece2b35c",
        "papermill": {
          "duration": 0.069054,
          "end_time": "2022-04-18T20:52:20.319555",
          "exception": false,
          "start_time": "2022-04-18T20:52:20.250501",
          "status": "completed"
        },
        "tags": []
      },
      "source": [
        "Looking at the columns in the csv, we can rename **Value** to **hg/ha_yield** to make it easier to recognise that this is our crops yields production value. In addition to removal of unnecessary coloumns like Area Code, Domain, Item Code, etc."
      ]
    },
    {
      "cell_type": "code",
      "execution_count": 5,
      "id": "92ff63a7",
      "metadata": {
        "colab": {
          "base_uri": "https://localhost:8080/",
          "height": 206
        },
        "execution": {
          "iopub.execute_input": "2022-04-18T20:52:20.465294Z",
          "iopub.status.busy": "2022-04-18T20:52:20.463967Z",
          "iopub.status.idle": "2022-04-18T20:52:20.510411Z",
          "shell.execute_reply": "2022-04-18T20:52:20.508740Z",
          "shell.execute_reply.started": "2022-04-18T18:46:53.628764Z"
        },
        "id": "92ff63a7",
        "outputId": "872d49a9-5839-4c12-c777-0422babb46f6",
        "papermill": {
          "duration": 0.122241,
          "end_time": "2022-04-18T20:52:20.510976",
          "exception": false,
          "start_time": "2022-04-18T20:52:20.388735",
          "status": "completed"
        },
        "scrolled": true,
        "tags": []
      },
      "outputs": [
        {
          "data": {
            "text/html": [
              "<div>\n",
              "<style scoped>\n",
              "    .dataframe tbody tr th:only-of-type {\n",
              "        vertical-align: middle;\n",
              "    }\n",
              "\n",
              "    .dataframe tbody tr th {\n",
              "        vertical-align: top;\n",
              "    }\n",
              "\n",
              "    .dataframe thead th {\n",
              "        text-align: right;\n",
              "    }\n",
              "</style>\n",
              "<table border=\"1\" class=\"dataframe\">\n",
              "  <thead>\n",
              "    <tr style=\"text-align: right;\">\n",
              "      <th></th>\n",
              "      <th>Domain Code</th>\n",
              "      <th>Domain</th>\n",
              "      <th>Area Code</th>\n",
              "      <th>Area</th>\n",
              "      <th>Element Code</th>\n",
              "      <th>Element</th>\n",
              "      <th>Item Code</th>\n",
              "      <th>Item</th>\n",
              "      <th>Year Code</th>\n",
              "      <th>Year</th>\n",
              "      <th>Unit</th>\n",
              "      <th>hg/ha_yield</th>\n",
              "    </tr>\n",
              "  </thead>\n",
              "  <tbody>\n",
              "    <tr>\n",
              "      <th>0</th>\n",
              "      <td>QC</td>\n",
              "      <td>Crops</td>\n",
              "      <td>2</td>\n",
              "      <td>Afghanistan</td>\n",
              "      <td>5419</td>\n",
              "      <td>Yield</td>\n",
              "      <td>56</td>\n",
              "      <td>Maize</td>\n",
              "      <td>1961</td>\n",
              "      <td>1961</td>\n",
              "      <td>hg/ha</td>\n",
              "      <td>14000</td>\n",
              "    </tr>\n",
              "    <tr>\n",
              "      <th>1</th>\n",
              "      <td>QC</td>\n",
              "      <td>Crops</td>\n",
              "      <td>2</td>\n",
              "      <td>Afghanistan</td>\n",
              "      <td>5419</td>\n",
              "      <td>Yield</td>\n",
              "      <td>56</td>\n",
              "      <td>Maize</td>\n",
              "      <td>1962</td>\n",
              "      <td>1962</td>\n",
              "      <td>hg/ha</td>\n",
              "      <td>14000</td>\n",
              "    </tr>\n",
              "    <tr>\n",
              "      <th>2</th>\n",
              "      <td>QC</td>\n",
              "      <td>Crops</td>\n",
              "      <td>2</td>\n",
              "      <td>Afghanistan</td>\n",
              "      <td>5419</td>\n",
              "      <td>Yield</td>\n",
              "      <td>56</td>\n",
              "      <td>Maize</td>\n",
              "      <td>1963</td>\n",
              "      <td>1963</td>\n",
              "      <td>hg/ha</td>\n",
              "      <td>14260</td>\n",
              "    </tr>\n",
              "    <tr>\n",
              "      <th>3</th>\n",
              "      <td>QC</td>\n",
              "      <td>Crops</td>\n",
              "      <td>2</td>\n",
              "      <td>Afghanistan</td>\n",
              "      <td>5419</td>\n",
              "      <td>Yield</td>\n",
              "      <td>56</td>\n",
              "      <td>Maize</td>\n",
              "      <td>1964</td>\n",
              "      <td>1964</td>\n",
              "      <td>hg/ha</td>\n",
              "      <td>14257</td>\n",
              "    </tr>\n",
              "    <tr>\n",
              "      <th>4</th>\n",
              "      <td>QC</td>\n",
              "      <td>Crops</td>\n",
              "      <td>2</td>\n",
              "      <td>Afghanistan</td>\n",
              "      <td>5419</td>\n",
              "      <td>Yield</td>\n",
              "      <td>56</td>\n",
              "      <td>Maize</td>\n",
              "      <td>1965</td>\n",
              "      <td>1965</td>\n",
              "      <td>hg/ha</td>\n",
              "      <td>14400</td>\n",
              "    </tr>\n",
              "  </tbody>\n",
              "</table>\n",
              "</div>"
            ],
            "text/plain": [
              "  Domain Code Domain  Area Code         Area  Element Code Element  Item Code  \\\n",
              "0          QC  Crops          2  Afghanistan          5419   Yield         56   \n",
              "1          QC  Crops          2  Afghanistan          5419   Yield         56   \n",
              "2          QC  Crops          2  Afghanistan          5419   Yield         56   \n",
              "3          QC  Crops          2  Afghanistan          5419   Yield         56   \n",
              "4          QC  Crops          2  Afghanistan          5419   Yield         56   \n",
              "\n",
              "    Item  Year Code  Year   Unit  hg/ha_yield  \n",
              "0  Maize       1961  1961  hg/ha        14000  \n",
              "1  Maize       1962  1962  hg/ha        14000  \n",
              "2  Maize       1963  1963  hg/ha        14260  \n",
              "3  Maize       1964  1964  hg/ha        14257  \n",
              "4  Maize       1965  1965  hg/ha        14400  "
            ]
          },
          "execution_count": 5,
          "metadata": {},
          "output_type": "execute_result"
        }
      ],
      "source": [
        "# rename columns.\n",
        "df_yield = df_yield.rename(index=str, columns={\"Value\": \"hg/ha_yield\"})\n",
        "df_yield.head()"
      ]
    },
    {
      "cell_type": "code",
      "execution_count": 6,
      "id": "ed92370b",
      "metadata": {
        "colab": {
          "base_uri": "https://localhost:8080/",
          "height": 206
        },
        "execution": {
          "iopub.execute_input": "2022-04-18T20:52:20.661946Z",
          "iopub.status.busy": "2022-04-18T20:52:20.660909Z",
          "iopub.status.idle": "2022-04-18T20:52:20.673460Z",
          "shell.execute_reply": "2022-04-18T20:52:20.674133Z",
          "shell.execute_reply.started": "2022-04-18T18:46:56.601866Z"
        },
        "id": "ed92370b",
        "outputId": "5a1236fb-9a32-4783-bc13-900cd0865d35",
        "papermill": {
          "duration": 0.09208,
          "end_time": "2022-04-18T20:52:20.674345",
          "exception": false,
          "start_time": "2022-04-18T20:52:20.582265",
          "status": "completed"
        },
        "tags": []
      },
      "outputs": [
        {
          "data": {
            "text/html": [
              "<div>\n",
              "<style scoped>\n",
              "    .dataframe tbody tr th:only-of-type {\n",
              "        vertical-align: middle;\n",
              "    }\n",
              "\n",
              "    .dataframe tbody tr th {\n",
              "        vertical-align: top;\n",
              "    }\n",
              "\n",
              "    .dataframe thead th {\n",
              "        text-align: right;\n",
              "    }\n",
              "</style>\n",
              "<table border=\"1\" class=\"dataframe\">\n",
              "  <thead>\n",
              "    <tr style=\"text-align: right;\">\n",
              "      <th></th>\n",
              "      <th>Area</th>\n",
              "      <th>Item</th>\n",
              "      <th>Year</th>\n",
              "      <th>hg/ha_yield</th>\n",
              "    </tr>\n",
              "  </thead>\n",
              "  <tbody>\n",
              "    <tr>\n",
              "      <th>0</th>\n",
              "      <td>Afghanistan</td>\n",
              "      <td>Maize</td>\n",
              "      <td>1961</td>\n",
              "      <td>14000</td>\n",
              "    </tr>\n",
              "    <tr>\n",
              "      <th>1</th>\n",
              "      <td>Afghanistan</td>\n",
              "      <td>Maize</td>\n",
              "      <td>1962</td>\n",
              "      <td>14000</td>\n",
              "    </tr>\n",
              "    <tr>\n",
              "      <th>2</th>\n",
              "      <td>Afghanistan</td>\n",
              "      <td>Maize</td>\n",
              "      <td>1963</td>\n",
              "      <td>14260</td>\n",
              "    </tr>\n",
              "    <tr>\n",
              "      <th>3</th>\n",
              "      <td>Afghanistan</td>\n",
              "      <td>Maize</td>\n",
              "      <td>1964</td>\n",
              "      <td>14257</td>\n",
              "    </tr>\n",
              "    <tr>\n",
              "      <th>4</th>\n",
              "      <td>Afghanistan</td>\n",
              "      <td>Maize</td>\n",
              "      <td>1965</td>\n",
              "      <td>14400</td>\n",
              "    </tr>\n",
              "  </tbody>\n",
              "</table>\n",
              "</div>"
            ],
            "text/plain": [
              "          Area   Item  Year  hg/ha_yield\n",
              "0  Afghanistan  Maize  1961        14000\n",
              "1  Afghanistan  Maize  1962        14000\n",
              "2  Afghanistan  Maize  1963        14260\n",
              "3  Afghanistan  Maize  1964        14257\n",
              "4  Afghanistan  Maize  1965        14400"
            ]
          },
          "execution_count": 6,
          "metadata": {},
          "output_type": "execute_result"
        }
      ],
      "source": [
        "# drop unwanted columns.\n",
        "df_yield = df_yield.drop(['Year Code','Element Code','Element','Year Code','Area Code','Domain Code','Domain','Unit','Item Code'], axis=1)\n",
        "df_yield.head()"
      ]
    },
    {
      "cell_type": "code",
      "execution_count": 7,
      "id": "6419290a",
      "metadata": {
        "colab": {
          "base_uri": "https://localhost:8080/",
          "height": 300
        },
        "execution": {
          "iopub.execute_input": "2022-04-18T20:52:20.829784Z",
          "iopub.status.busy": "2022-04-18T20:52:20.828113Z",
          "iopub.status.idle": "2022-04-18T20:52:20.850780Z",
          "shell.execute_reply": "2022-04-18T20:52:20.850094Z",
          "shell.execute_reply.started": "2022-04-18T18:47:00.293265Z"
        },
        "id": "6419290a",
        "outputId": "dc693b25-ce3f-4e6e-d63e-efe88da7b42a",
        "papermill": {
          "duration": 0.106403,
          "end_time": "2022-04-18T20:52:20.850950",
          "exception": false,
          "start_time": "2022-04-18T20:52:20.744547",
          "status": "completed"
        },
        "scrolled": true,
        "tags": []
      },
      "outputs": [
        {
          "data": {
            "text/html": [
              "<div>\n",
              "<style scoped>\n",
              "    .dataframe tbody tr th:only-of-type {\n",
              "        vertical-align: middle;\n",
              "    }\n",
              "\n",
              "    .dataframe tbody tr th {\n",
              "        vertical-align: top;\n",
              "    }\n",
              "\n",
              "    .dataframe thead th {\n",
              "        text-align: right;\n",
              "    }\n",
              "</style>\n",
              "<table border=\"1\" class=\"dataframe\">\n",
              "  <thead>\n",
              "    <tr style=\"text-align: right;\">\n",
              "      <th></th>\n",
              "      <th>Year</th>\n",
              "      <th>hg/ha_yield</th>\n",
              "    </tr>\n",
              "  </thead>\n",
              "  <tbody>\n",
              "    <tr>\n",
              "      <th>count</th>\n",
              "      <td>56717.000000</td>\n",
              "      <td>56717.000000</td>\n",
              "    </tr>\n",
              "    <tr>\n",
              "      <th>mean</th>\n",
              "      <td>1989.669570</td>\n",
              "      <td>62094.660084</td>\n",
              "    </tr>\n",
              "    <tr>\n",
              "      <th>std</th>\n",
              "      <td>16.133198</td>\n",
              "      <td>67835.932856</td>\n",
              "    </tr>\n",
              "    <tr>\n",
              "      <th>min</th>\n",
              "      <td>1961.000000</td>\n",
              "      <td>0.000000</td>\n",
              "    </tr>\n",
              "    <tr>\n",
              "      <th>25%</th>\n",
              "      <td>1976.000000</td>\n",
              "      <td>15680.000000</td>\n",
              "    </tr>\n",
              "    <tr>\n",
              "      <th>50%</th>\n",
              "      <td>1991.000000</td>\n",
              "      <td>36744.000000</td>\n",
              "    </tr>\n",
              "    <tr>\n",
              "      <th>75%</th>\n",
              "      <td>2004.000000</td>\n",
              "      <td>86213.000000</td>\n",
              "    </tr>\n",
              "    <tr>\n",
              "      <th>max</th>\n",
              "      <td>2016.000000</td>\n",
              "      <td>1000000.000000</td>\n",
              "    </tr>\n",
              "  </tbody>\n",
              "</table>\n",
              "</div>"
            ],
            "text/plain": [
              "               Year     hg/ha_yield\n",
              "count  56717.000000    56717.000000\n",
              "mean    1989.669570    62094.660084\n",
              "std       16.133198    67835.932856\n",
              "min     1961.000000        0.000000\n",
              "25%     1976.000000    15680.000000\n",
              "50%     1991.000000    36744.000000\n",
              "75%     2004.000000    86213.000000\n",
              "max     2016.000000  1000000.000000"
            ]
          },
          "execution_count": 7,
          "metadata": {},
          "output_type": "execute_result"
        }
      ],
      "source": [
        "df_yield.describe()"
      ]
    },
    {
      "cell_type": "code",
      "execution_count": 8,
      "id": "49ce945c",
      "metadata": {
        "colab": {
          "base_uri": "https://localhost:8080/"
        },
        "execution": {
          "iopub.execute_input": "2022-04-18T20:52:21.013620Z",
          "iopub.status.busy": "2022-04-18T20:52:21.012456Z",
          "iopub.status.idle": "2022-04-18T20:52:21.027794Z",
          "shell.execute_reply": "2022-04-18T20:52:21.027120Z",
          "shell.execute_reply.started": "2022-04-18T18:47:06.230458Z"
        },
        "id": "49ce945c",
        "outputId": "3c58468d-270b-425b-a830-732667779327",
        "papermill": {
          "duration": 0.10595,
          "end_time": "2022-04-18T20:52:21.027972",
          "exception": false,
          "start_time": "2022-04-18T20:52:20.922022",
          "status": "completed"
        },
        "tags": []
      },
      "outputs": [
        {
          "name": "stdout",
          "output_type": "stream",
          "text": [
            "<class 'pandas.core.frame.DataFrame'>\n",
            "Index: 56717 entries, 0 to 56716\n",
            "Data columns (total 4 columns):\n",
            " #   Column       Non-Null Count  Dtype \n",
            "---  ------       --------------  ----- \n",
            " 0   Area         56717 non-null  object\n",
            " 1   Item         56717 non-null  object\n",
            " 2   Year         56717 non-null  int64 \n",
            " 3   hg/ha_yield  56717 non-null  int64 \n",
            "dtypes: int64(2), object(2)\n",
            "memory usage: 2.2+ MB\n"
          ]
        }
      ],
      "source": [
        "df_yield.info()"
      ]
    },
    {
      "cell_type": "markdown",
      "id": "59bf1fa6",
      "metadata": {
        "id": "59bf1fa6",
        "papermill": {
          "duration": 0.069909,
          "end_time": "2022-04-18T20:52:21.168590",
          "exception": false,
          "start_time": "2022-04-18T20:52:21.098681",
          "status": "completed"
        },
        "tags": []
      },
      "source": [
        "### Climate Data : Rainfall\n",
        "The climatic factors include rainfall and temperature. They are abiotic components, including pesticides and soil, of the environmental factors that influence plant growth and development.\n",
        "\n",
        "\n",
        "Rainfall has a dramatic effect on agriculture. For this project rain fall per year information was gathered from World Data Bank."
      ]
    },
    {
      "cell_type": "code",
      "execution_count": 9,
      "id": "cd9f71c9",
      "metadata": {
        "colab": {
          "base_uri": "https://localhost:8080/",
          "height": 206
        },
        "execution": {
          "iopub.execute_input": "2022-04-18T20:52:21.317458Z",
          "iopub.status.busy": "2022-04-18T20:52:21.316716Z",
          "iopub.status.idle": "2022-04-18T20:52:21.348157Z",
          "shell.execute_reply": "2022-04-18T20:52:21.347522Z",
          "shell.execute_reply.started": "2022-04-18T18:47:11.615933Z"
        },
        "id": "cd9f71c9",
        "outputId": "28cd32ef-2991-456f-81ae-4fb6d0ceb022",
        "papermill": {
          "duration": 0.107241,
          "end_time": "2022-04-18T20:52:21.348317",
          "exception": false,
          "start_time": "2022-04-18T20:52:21.241076",
          "status": "completed"
        },
        "scrolled": true,
        "tags": []
      },
      "outputs": [
        {
          "data": {
            "text/html": [
              "<div>\n",
              "<style scoped>\n",
              "    .dataframe tbody tr th:only-of-type {\n",
              "        vertical-align: middle;\n",
              "    }\n",
              "\n",
              "    .dataframe tbody tr th {\n",
              "        vertical-align: top;\n",
              "    }\n",
              "\n",
              "    .dataframe thead th {\n",
              "        text-align: right;\n",
              "    }\n",
              "</style>\n",
              "<table border=\"1\" class=\"dataframe\">\n",
              "  <thead>\n",
              "    <tr style=\"text-align: right;\">\n",
              "      <th></th>\n",
              "      <th>Area</th>\n",
              "      <th>Year</th>\n",
              "      <th>average_rain_fall_mm_per_year</th>\n",
              "    </tr>\n",
              "  </thead>\n",
              "  <tbody>\n",
              "    <tr>\n",
              "      <th>0</th>\n",
              "      <td>Afghanistan</td>\n",
              "      <td>1985</td>\n",
              "      <td>327</td>\n",
              "    </tr>\n",
              "    <tr>\n",
              "      <th>1</th>\n",
              "      <td>Afghanistan</td>\n",
              "      <td>1986</td>\n",
              "      <td>327</td>\n",
              "    </tr>\n",
              "    <tr>\n",
              "      <th>2</th>\n",
              "      <td>Afghanistan</td>\n",
              "      <td>1987</td>\n",
              "      <td>327</td>\n",
              "    </tr>\n",
              "    <tr>\n",
              "      <th>3</th>\n",
              "      <td>Afghanistan</td>\n",
              "      <td>1989</td>\n",
              "      <td>327</td>\n",
              "    </tr>\n",
              "    <tr>\n",
              "      <th>4</th>\n",
              "      <td>Afghanistan</td>\n",
              "      <td>1990</td>\n",
              "      <td>327</td>\n",
              "    </tr>\n",
              "  </tbody>\n",
              "</table>\n",
              "</div>"
            ],
            "text/plain": [
              "          Area  Year average_rain_fall_mm_per_year\n",
              "0  Afghanistan  1985                           327\n",
              "1  Afghanistan  1986                           327\n",
              "2  Afghanistan  1987                           327\n",
              "3  Afghanistan  1989                           327\n",
              "4  Afghanistan  1990                           327"
            ]
          },
          "execution_count": 9,
          "metadata": {},
          "output_type": "execute_result"
        }
      ],
      "source": [
        "df_rain = pd.read_csv(r\"C:\\Users\\Harsh Gupta\\OneDrive\\Desktop\\Capstone\\Project\\Dataset\\rainfall.csv\")\n",
        "df_rain.head()"
      ]
    },
    {
      "cell_type": "code",
      "execution_count": 10,
      "id": "c7bcefd2",
      "metadata": {
        "colab": {
          "base_uri": "https://localhost:8080/",
          "height": 206
        },
        "execution": {
          "iopub.execute_input": "2022-04-18T20:52:21.503790Z",
          "iopub.status.busy": "2022-04-18T20:52:21.503056Z",
          "iopub.status.idle": "2022-04-18T20:52:21.506984Z",
          "shell.execute_reply": "2022-04-18T20:52:21.506469Z",
          "shell.execute_reply.started": "2022-04-18T18:47:43.186431Z"
        },
        "id": "c7bcefd2",
        "outputId": "31f3e398-4775-47c3-ebca-c2c5651fd4b8",
        "papermill": {
          "duration": 0.087294,
          "end_time": "2022-04-18T20:52:21.507160",
          "exception": false,
          "start_time": "2022-04-18T20:52:21.419866",
          "status": "completed"
        },
        "tags": []
      },
      "outputs": [
        {
          "data": {
            "text/html": [
              "<div>\n",
              "<style scoped>\n",
              "    .dataframe tbody tr th:only-of-type {\n",
              "        vertical-align: middle;\n",
              "    }\n",
              "\n",
              "    .dataframe tbody tr th {\n",
              "        vertical-align: top;\n",
              "    }\n",
              "\n",
              "    .dataframe thead th {\n",
              "        text-align: right;\n",
              "    }\n",
              "</style>\n",
              "<table border=\"1\" class=\"dataframe\">\n",
              "  <thead>\n",
              "    <tr style=\"text-align: right;\">\n",
              "      <th></th>\n",
              "      <th>Area</th>\n",
              "      <th>Year</th>\n",
              "      <th>average_rain_fall_mm_per_year</th>\n",
              "    </tr>\n",
              "  </thead>\n",
              "  <tbody>\n",
              "    <tr>\n",
              "      <th>6722</th>\n",
              "      <td>Zimbabwe</td>\n",
              "      <td>2013</td>\n",
              "      <td>657</td>\n",
              "    </tr>\n",
              "    <tr>\n",
              "      <th>6723</th>\n",
              "      <td>Zimbabwe</td>\n",
              "      <td>2014</td>\n",
              "      <td>657</td>\n",
              "    </tr>\n",
              "    <tr>\n",
              "      <th>6724</th>\n",
              "      <td>Zimbabwe</td>\n",
              "      <td>2015</td>\n",
              "      <td>657</td>\n",
              "    </tr>\n",
              "    <tr>\n",
              "      <th>6725</th>\n",
              "      <td>Zimbabwe</td>\n",
              "      <td>2016</td>\n",
              "      <td>657</td>\n",
              "    </tr>\n",
              "    <tr>\n",
              "      <th>6726</th>\n",
              "      <td>Zimbabwe</td>\n",
              "      <td>2017</td>\n",
              "      <td>657</td>\n",
              "    </tr>\n",
              "  </tbody>\n",
              "</table>\n",
              "</div>"
            ],
            "text/plain": [
              "          Area  Year average_rain_fall_mm_per_year\n",
              "6722  Zimbabwe  2013                           657\n",
              "6723  Zimbabwe  2014                           657\n",
              "6724  Zimbabwe  2015                           657\n",
              "6725  Zimbabwe  2016                           657\n",
              "6726  Zimbabwe  2017                           657"
            ]
          },
          "execution_count": 10,
          "metadata": {},
          "output_type": "execute_result"
        }
      ],
      "source": [
        "df_rain.tail()"
      ]
    },
    {
      "cell_type": "code",
      "execution_count": 11,
      "id": "a99250d4",
      "metadata": {
        "execution": {
          "iopub.execute_input": "2022-04-18T20:52:21.661905Z",
          "iopub.status.busy": "2022-04-18T20:52:21.661108Z",
          "iopub.status.idle": "2022-04-18T20:52:21.664102Z",
          "shell.execute_reply": "2022-04-18T20:52:21.663551Z",
          "shell.execute_reply.started": "2022-04-18T18:47:53.960938Z"
        },
        "id": "a99250d4",
        "papermill": {
          "duration": 0.085149,
          "end_time": "2022-04-18T20:52:21.664277",
          "exception": false,
          "start_time": "2022-04-18T20:52:21.579128",
          "status": "completed"
        },
        "tags": []
      },
      "outputs": [],
      "source": [
        "df_rain = df_rain.rename(index=str, columns={\" Area\": 'Area'})"
      ]
    },
    {
      "cell_type": "markdown",
      "id": "30e469c7",
      "metadata": {
        "id": "30e469c7",
        "papermill": {
          "duration": 0.072214,
          "end_time": "2022-04-18T20:52:21.809359",
          "exception": false,
          "start_time": "2022-04-18T20:52:21.737145",
          "status": "completed"
        },
        "tags": []
      },
      "source": [
        "Checking for the datatypes"
      ]
    },
    {
      "cell_type": "code",
      "execution_count": 12,
      "id": "9ae1f148",
      "metadata": {
        "colab": {
          "base_uri": "https://localhost:8080/"
        },
        "execution": {
          "iopub.execute_input": "2022-04-18T20:52:21.970516Z",
          "iopub.status.busy": "2022-04-18T20:52:21.969722Z",
          "iopub.status.idle": "2022-04-18T20:52:21.973560Z",
          "shell.execute_reply": "2022-04-18T20:52:21.972466Z",
          "shell.execute_reply.started": "2022-04-18T18:47:59.966938Z"
        },
        "id": "9ae1f148",
        "outputId": "cf1cbb26-949c-4871-bcf9-7bdbe6a95a17",
        "papermill": {
          "duration": 0.092147,
          "end_time": "2022-04-18T20:52:21.973729",
          "exception": false,
          "start_time": "2022-04-18T20:52:21.881582",
          "status": "completed"
        },
        "scrolled": true,
        "tags": []
      },
      "outputs": [
        {
          "name": "stdout",
          "output_type": "stream",
          "text": [
            "<class 'pandas.core.frame.DataFrame'>\n",
            "Index: 6727 entries, 0 to 6726\n",
            "Data columns (total 3 columns):\n",
            " #   Column                         Non-Null Count  Dtype \n",
            "---  ------                         --------------  ----- \n",
            " 0   Area                           6727 non-null   object\n",
            " 1   Year                           6727 non-null   int64 \n",
            " 2   average_rain_fall_mm_per_year  5953 non-null   object\n",
            "dtypes: int64(1), object(2)\n",
            "memory usage: 210.2+ KB\n"
          ]
        }
      ],
      "source": [
        "df_rain.info()"
      ]
    },
    {
      "cell_type": "markdown",
      "id": "417bf0ee",
      "metadata": {
        "id": "417bf0ee",
        "papermill": {
          "duration": 0.073862,
          "end_time": "2022-04-18T20:52:22.121133",
          "exception": false,
          "start_time": "2022-04-18T20:52:22.047271",
          "status": "completed"
        },
        "tags": []
      },
      "source": [
        "convert average_rain_fall_mm_per_year from object to float"
      ]
    },
    {
      "cell_type": "code",
      "execution_count": 13,
      "id": "98fa3d82",
      "metadata": {
        "colab": {
          "base_uri": "https://localhost:8080/"
        },
        "execution": {
          "iopub.execute_input": "2022-04-18T20:52:22.294853Z",
          "iopub.status.busy": "2022-04-18T20:52:22.294046Z",
          "iopub.status.idle": "2022-04-18T20:52:22.299386Z",
          "shell.execute_reply": "2022-04-18T20:52:22.297902Z",
          "shell.execute_reply.started": "2022-04-18T18:48:37.915257Z"
        },
        "id": "98fa3d82",
        "outputId": "5393bcf8-b644-4c41-9c91-82f1170057e6",
        "papermill": {
          "duration": 0.104126,
          "end_time": "2022-04-18T20:52:22.299635",
          "exception": false,
          "start_time": "2022-04-18T20:52:22.195509",
          "status": "completed"
        },
        "scrolled": true,
        "tags": []
      },
      "outputs": [
        {
          "name": "stdout",
          "output_type": "stream",
          "text": [
            "<class 'pandas.core.frame.DataFrame'>\n",
            "Index: 6727 entries, 0 to 6726\n",
            "Data columns (total 3 columns):\n",
            " #   Column                         Non-Null Count  Dtype  \n",
            "---  ------                         --------------  -----  \n",
            " 0   Area                           6727 non-null   object \n",
            " 1   Year                           6727 non-null   int64  \n",
            " 2   average_rain_fall_mm_per_year  5947 non-null   float64\n",
            "dtypes: float64(1), int64(1), object(1)\n",
            "memory usage: 210.2+ KB\n"
          ]
        }
      ],
      "source": [
        "df_rain['average_rain_fall_mm_per_year'] = pd.to_numeric(df_rain['average_rain_fall_mm_per_year'],errors = 'coerce')\n",
        "df_rain.info()"
      ]
    },
    {
      "cell_type": "markdown",
      "id": "7b082c5a",
      "metadata": {
        "id": "7b082c5a",
        "papermill": {
          "duration": 0.074368,
          "end_time": "2022-04-18T20:52:22.461713",
          "exception": false,
          "start_time": "2022-04-18T20:52:22.387345",
          "status": "completed"
        },
        "tags": []
      },
      "source": [
        "Next, droping any empty rows from dataset and merge yield dataframe with rain dataframe by year and area columns"
      ]
    },
    {
      "cell_type": "code",
      "execution_count": 14,
      "id": "d9b7187b",
      "metadata": {
        "execution": {
          "iopub.execute_input": "2022-04-18T20:52:22.618383Z",
          "iopub.status.busy": "2022-04-18T20:52:22.616081Z",
          "iopub.status.idle": "2022-04-18T20:52:22.622143Z",
          "shell.execute_reply": "2022-04-18T20:52:22.621502Z",
          "shell.execute_reply.started": "2022-04-18T18:48:56.760810Z"
        },
        "id": "d9b7187b",
        "papermill": {
          "duration": 0.087026,
          "end_time": "2022-04-18T20:52:22.622305",
          "exception": false,
          "start_time": "2022-04-18T20:52:22.535279",
          "status": "completed"
        },
        "tags": []
      },
      "outputs": [],
      "source": [
        "df_rain = df_rain.dropna()"
      ]
    },
    {
      "cell_type": "code",
      "execution_count": 15,
      "id": "cd691c3d",
      "metadata": {
        "colab": {
          "base_uri": "https://localhost:8080/",
          "height": 300
        },
        "execution": {
          "iopub.execute_input": "2022-04-18T20:52:22.779207Z",
          "iopub.status.busy": "2022-04-18T20:52:22.777321Z",
          "iopub.status.idle": "2022-04-18T20:52:22.791583Z",
          "shell.execute_reply": "2022-04-18T20:52:22.792280Z",
          "shell.execute_reply.started": "2022-04-18T18:49:15.557301Z"
        },
        "id": "cd691c3d",
        "outputId": "9fd5bf28-b44c-44d9-9200-2e1a11a8615e",
        "papermill": {
          "duration": 0.097315,
          "end_time": "2022-04-18T20:52:22.792506",
          "exception": false,
          "start_time": "2022-04-18T20:52:22.695191",
          "status": "completed"
        },
        "scrolled": true,
        "tags": []
      },
      "outputs": [
        {
          "data": {
            "text/html": [
              "<div>\n",
              "<style scoped>\n",
              "    .dataframe tbody tr th:only-of-type {\n",
              "        vertical-align: middle;\n",
              "    }\n",
              "\n",
              "    .dataframe tbody tr th {\n",
              "        vertical-align: top;\n",
              "    }\n",
              "\n",
              "    .dataframe thead th {\n",
              "        text-align: right;\n",
              "    }\n",
              "</style>\n",
              "<table border=\"1\" class=\"dataframe\">\n",
              "  <thead>\n",
              "    <tr style=\"text-align: right;\">\n",
              "      <th></th>\n",
              "      <th>Year</th>\n",
              "      <th>average_rain_fall_mm_per_year</th>\n",
              "    </tr>\n",
              "  </thead>\n",
              "  <tbody>\n",
              "    <tr>\n",
              "      <th>count</th>\n",
              "      <td>5947.000000</td>\n",
              "      <td>5947.000000</td>\n",
              "    </tr>\n",
              "    <tr>\n",
              "      <th>mean</th>\n",
              "      <td>2001.365899</td>\n",
              "      <td>1124.743232</td>\n",
              "    </tr>\n",
              "    <tr>\n",
              "      <th>std</th>\n",
              "      <td>9.526335</td>\n",
              "      <td>786.257365</td>\n",
              "    </tr>\n",
              "    <tr>\n",
              "      <th>min</th>\n",
              "      <td>1985.000000</td>\n",
              "      <td>51.000000</td>\n",
              "    </tr>\n",
              "    <tr>\n",
              "      <th>25%</th>\n",
              "      <td>1993.000000</td>\n",
              "      <td>534.000000</td>\n",
              "    </tr>\n",
              "    <tr>\n",
              "      <th>50%</th>\n",
              "      <td>2001.000000</td>\n",
              "      <td>1010.000000</td>\n",
              "    </tr>\n",
              "    <tr>\n",
              "      <th>75%</th>\n",
              "      <td>2010.000000</td>\n",
              "      <td>1651.000000</td>\n",
              "    </tr>\n",
              "    <tr>\n",
              "      <th>max</th>\n",
              "      <td>2017.000000</td>\n",
              "      <td>3240.000000</td>\n",
              "    </tr>\n",
              "  </tbody>\n",
              "</table>\n",
              "</div>"
            ],
            "text/plain": [
              "              Year  average_rain_fall_mm_per_year\n",
              "count  5947.000000                    5947.000000\n",
              "mean   2001.365899                    1124.743232\n",
              "std       9.526335                     786.257365\n",
              "min    1985.000000                      51.000000\n",
              "25%    1993.000000                     534.000000\n",
              "50%    2001.000000                    1010.000000\n",
              "75%    2010.000000                    1651.000000\n",
              "max    2017.000000                    3240.000000"
            ]
          },
          "execution_count": 15,
          "metadata": {},
          "output_type": "execute_result"
        }
      ],
      "source": [
        "df_rain.describe()"
      ]
    },
    {
      "cell_type": "markdown",
      "id": "66d74c12",
      "metadata": {
        "id": "66d74c12",
        "papermill": {
          "duration": 0.073242,
          "end_time": "2022-04-18T20:52:22.938861",
          "exception": false,
          "start_time": "2022-04-18T20:52:22.865619",
          "status": "completed"
        },
        "tags": []
      },
      "source": [
        "The rainfall dataframe begins at 1985 and ends at 2016."
      ]
    },
    {
      "cell_type": "markdown",
      "id": "89f3d93a",
      "metadata": {
        "id": "89f3d93a",
        "papermill": {
          "duration": 0.073571,
          "end_time": "2022-04-18T20:52:23.086577",
          "exception": false,
          "start_time": "2022-04-18T20:52:23.013006",
          "status": "completed"
        },
        "tags": []
      },
      "source": [
        "Merge Yield Dataframe with rain Dataframe by year and area columns"
      ]
    },
    {
      "cell_type": "code",
      "execution_count": 16,
      "id": "86d752d1",
      "metadata": {
        "execution": {
          "iopub.execute_input": "2022-04-18T20:52:23.242680Z",
          "iopub.status.busy": "2022-04-18T20:52:23.241915Z",
          "iopub.status.idle": "2022-04-18T20:52:23.272724Z",
          "shell.execute_reply": "2022-04-18T20:52:23.271983Z",
          "shell.execute_reply.started": "2022-04-18T18:50:02.554899Z"
        },
        "id": "86d752d1",
        "papermill": {
          "duration": 0.109882,
          "end_time": "2022-04-18T20:52:23.272940",
          "exception": false,
          "start_time": "2022-04-18T20:52:23.163058",
          "status": "completed"
        },
        "tags": []
      },
      "outputs": [],
      "source": [
        "yield_df = pd.merge(df_yield, df_rain, on=['Year','Area'])"
      ]
    },
    {
      "cell_type": "code",
      "execution_count": 17,
      "id": "1b176dc8",
      "metadata": {
        "colab": {
          "base_uri": "https://localhost:8080/",
          "height": 206
        },
        "execution": {
          "iopub.execute_input": "2022-04-18T20:52:23.451163Z",
          "iopub.status.busy": "2022-04-18T20:52:23.445315Z",
          "iopub.status.idle": "2022-04-18T20:52:23.456097Z",
          "shell.execute_reply": "2022-04-18T20:52:23.455290Z",
          "shell.execute_reply.started": "2022-04-18T18:50:29.048773Z"
        },
        "id": "1b176dc8",
        "outputId": "519c34b5-a249-4212-9174-50e9b371a97b",
        "papermill": {
          "duration": 0.097403,
          "end_time": "2022-04-18T20:52:23.456262",
          "exception": false,
          "start_time": "2022-04-18T20:52:23.358859",
          "status": "completed"
        },
        "scrolled": true,
        "tags": []
      },
      "outputs": [
        {
          "data": {
            "text/html": [
              "<div>\n",
              "<style scoped>\n",
              "    .dataframe tbody tr th:only-of-type {\n",
              "        vertical-align: middle;\n",
              "    }\n",
              "\n",
              "    .dataframe tbody tr th {\n",
              "        vertical-align: top;\n",
              "    }\n",
              "\n",
              "    .dataframe thead th {\n",
              "        text-align: right;\n",
              "    }\n",
              "</style>\n",
              "<table border=\"1\" class=\"dataframe\">\n",
              "  <thead>\n",
              "    <tr style=\"text-align: right;\">\n",
              "      <th></th>\n",
              "      <th>Area</th>\n",
              "      <th>Item</th>\n",
              "      <th>Year</th>\n",
              "      <th>hg/ha_yield</th>\n",
              "      <th>average_rain_fall_mm_per_year</th>\n",
              "    </tr>\n",
              "  </thead>\n",
              "  <tbody>\n",
              "    <tr>\n",
              "      <th>0</th>\n",
              "      <td>Afghanistan</td>\n",
              "      <td>Maize</td>\n",
              "      <td>1985</td>\n",
              "      <td>16652</td>\n",
              "      <td>327.0</td>\n",
              "    </tr>\n",
              "    <tr>\n",
              "      <th>1</th>\n",
              "      <td>Afghanistan</td>\n",
              "      <td>Potatoes</td>\n",
              "      <td>1985</td>\n",
              "      <td>140909</td>\n",
              "      <td>327.0</td>\n",
              "    </tr>\n",
              "    <tr>\n",
              "      <th>2</th>\n",
              "      <td>Afghanistan</td>\n",
              "      <td>Rice, paddy</td>\n",
              "      <td>1985</td>\n",
              "      <td>22482</td>\n",
              "      <td>327.0</td>\n",
              "    </tr>\n",
              "    <tr>\n",
              "      <th>3</th>\n",
              "      <td>Afghanistan</td>\n",
              "      <td>Wheat</td>\n",
              "      <td>1985</td>\n",
              "      <td>12277</td>\n",
              "      <td>327.0</td>\n",
              "    </tr>\n",
              "    <tr>\n",
              "      <th>4</th>\n",
              "      <td>Afghanistan</td>\n",
              "      <td>Maize</td>\n",
              "      <td>1986</td>\n",
              "      <td>16875</td>\n",
              "      <td>327.0</td>\n",
              "    </tr>\n",
              "  </tbody>\n",
              "</table>\n",
              "</div>"
            ],
            "text/plain": [
              "          Area         Item  Year  hg/ha_yield  average_rain_fall_mm_per_year\n",
              "0  Afghanistan        Maize  1985        16652                          327.0\n",
              "1  Afghanistan     Potatoes  1985       140909                          327.0\n",
              "2  Afghanistan  Rice, paddy  1985        22482                          327.0\n",
              "3  Afghanistan        Wheat  1985        12277                          327.0\n",
              "4  Afghanistan        Maize  1986        16875                          327.0"
            ]
          },
          "execution_count": 17,
          "metadata": {},
          "output_type": "execute_result"
        }
      ],
      "source": [
        "yield_df.head()"
      ]
    },
    {
      "cell_type": "markdown",
      "id": "473dad4b",
      "metadata": {
        "id": "473dad4b",
        "papermill": {
          "duration": 0.074573,
          "end_time": "2022-04-18T20:52:23.605514",
          "exception": false,
          "start_time": "2022-04-18T20:52:23.530941",
          "status": "completed"
        },
        "tags": []
      },
      "source": [
        "We can see that now the years start from the first yield dataframe the starting year was 1961, now it's 1985 because that's when the rainfall data begins."
      ]
    },
    {
      "cell_type": "code",
      "execution_count": 18,
      "id": "29059f71",
      "metadata": {
        "colab": {
          "base_uri": "https://localhost:8080/",
          "height": 300
        },
        "execution": {
          "iopub.execute_input": "2022-04-18T20:52:23.760828Z",
          "iopub.status.busy": "2022-04-18T20:52:23.759701Z",
          "iopub.status.idle": "2022-04-18T20:52:23.779290Z",
          "shell.execute_reply": "2022-04-18T20:52:23.779861Z",
          "shell.execute_reply.started": "2022-04-18T18:50:35.366488Z"
        },
        "id": "29059f71",
        "outputId": "410f03dd-1b10-43d9-a0f9-1cc5750df175",
        "papermill": {
          "duration": 0.101728,
          "end_time": "2022-04-18T20:52:23.780066",
          "exception": false,
          "start_time": "2022-04-18T20:52:23.678338",
          "status": "completed"
        },
        "scrolled": true,
        "tags": []
      },
      "outputs": [
        {
          "data": {
            "text/html": [
              "<div>\n",
              "<style scoped>\n",
              "    .dataframe tbody tr th:only-of-type {\n",
              "        vertical-align: middle;\n",
              "    }\n",
              "\n",
              "    .dataframe tbody tr th {\n",
              "        vertical-align: top;\n",
              "    }\n",
              "\n",
              "    .dataframe thead th {\n",
              "        text-align: right;\n",
              "    }\n",
              "</style>\n",
              "<table border=\"1\" class=\"dataframe\">\n",
              "  <thead>\n",
              "    <tr style=\"text-align: right;\">\n",
              "      <th></th>\n",
              "      <th>Year</th>\n",
              "      <th>hg/ha_yield</th>\n",
              "      <th>average_rain_fall_mm_per_year</th>\n",
              "    </tr>\n",
              "  </thead>\n",
              "  <tbody>\n",
              "    <tr>\n",
              "      <th>count</th>\n",
              "      <td>25385.000000</td>\n",
              "      <td>25385.000000</td>\n",
              "      <td>25385.000000</td>\n",
              "    </tr>\n",
              "    <tr>\n",
              "      <th>mean</th>\n",
              "      <td>2001.278787</td>\n",
              "      <td>68312.278353</td>\n",
              "      <td>1254.849754</td>\n",
              "    </tr>\n",
              "    <tr>\n",
              "      <th>std</th>\n",
              "      <td>9.143915</td>\n",
              "      <td>75213.292733</td>\n",
              "      <td>804.449430</td>\n",
              "    </tr>\n",
              "    <tr>\n",
              "      <th>min</th>\n",
              "      <td>1985.000000</td>\n",
              "      <td>50.000000</td>\n",
              "      <td>51.000000</td>\n",
              "    </tr>\n",
              "    <tr>\n",
              "      <th>25%</th>\n",
              "      <td>1994.000000</td>\n",
              "      <td>17432.000000</td>\n",
              "      <td>630.000000</td>\n",
              "    </tr>\n",
              "    <tr>\n",
              "      <th>50%</th>\n",
              "      <td>2001.000000</td>\n",
              "      <td>38750.000000</td>\n",
              "      <td>1150.000000</td>\n",
              "    </tr>\n",
              "    <tr>\n",
              "      <th>75%</th>\n",
              "      <td>2009.000000</td>\n",
              "      <td>94286.000000</td>\n",
              "      <td>1761.000000</td>\n",
              "    </tr>\n",
              "    <tr>\n",
              "      <th>max</th>\n",
              "      <td>2016.000000</td>\n",
              "      <td>554855.000000</td>\n",
              "      <td>3240.000000</td>\n",
              "    </tr>\n",
              "  </tbody>\n",
              "</table>\n",
              "</div>"
            ],
            "text/plain": [
              "               Year    hg/ha_yield  average_rain_fall_mm_per_year\n",
              "count  25385.000000   25385.000000                   25385.000000\n",
              "mean    2001.278787   68312.278353                    1254.849754\n",
              "std        9.143915   75213.292733                     804.449430\n",
              "min     1985.000000      50.000000                      51.000000\n",
              "25%     1994.000000   17432.000000                     630.000000\n",
              "50%     2001.000000   38750.000000                    1150.000000\n",
              "75%     2009.000000   94286.000000                    1761.000000\n",
              "max     2016.000000  554855.000000                    3240.000000"
            ]
          },
          "execution_count": 18,
          "metadata": {},
          "output_type": "execute_result"
        }
      ],
      "source": [
        "yield_df.describe()"
      ]
    },
    {
      "cell_type": "markdown",
      "id": "94ae6622",
      "metadata": {
        "id": "94ae6622",
        "papermill": {
          "duration": 0.073481,
          "end_time": "2022-04-18T20:52:23.927136",
          "exception": false,
          "start_time": "2022-04-18T20:52:23.853655",
          "status": "completed"
        },
        "tags": []
      },
      "source": [
        "### Pesticides Data:\n",
        "Pesticides used for each item and country was also collected from FAO database.  "
      ]
    },
    {
      "cell_type": "code",
      "execution_count": 19,
      "id": "7ddfee92",
      "metadata": {
        "colab": {
          "base_uri": "https://localhost:8080/",
          "height": 206
        },
        "execution": {
          "iopub.execute_input": "2022-04-18T20:52:24.082939Z",
          "iopub.status.busy": "2022-04-18T20:52:24.082229Z",
          "iopub.status.idle": "2022-04-18T20:52:24.114419Z",
          "shell.execute_reply": "2022-04-18T20:52:24.115082Z",
          "shell.execute_reply.started": "2022-04-18T18:50:38.094652Z"
        },
        "id": "7ddfee92",
        "outputId": "836cb358-a428-489f-b608-c1650a735909",
        "papermill": {
          "duration": 0.114222,
          "end_time": "2022-04-18T20:52:24.115265",
          "exception": false,
          "start_time": "2022-04-18T20:52:24.001043",
          "status": "completed"
        },
        "tags": []
      },
      "outputs": [
        {
          "data": {
            "text/html": [
              "<div>\n",
              "<style scoped>\n",
              "    .dataframe tbody tr th:only-of-type {\n",
              "        vertical-align: middle;\n",
              "    }\n",
              "\n",
              "    .dataframe tbody tr th {\n",
              "        vertical-align: top;\n",
              "    }\n",
              "\n",
              "    .dataframe thead th {\n",
              "        text-align: right;\n",
              "    }\n",
              "</style>\n",
              "<table border=\"1\" class=\"dataframe\">\n",
              "  <thead>\n",
              "    <tr style=\"text-align: right;\">\n",
              "      <th></th>\n",
              "      <th>Domain</th>\n",
              "      <th>Area</th>\n",
              "      <th>Element</th>\n",
              "      <th>Item</th>\n",
              "      <th>Year</th>\n",
              "      <th>Unit</th>\n",
              "      <th>Value</th>\n",
              "    </tr>\n",
              "  </thead>\n",
              "  <tbody>\n",
              "    <tr>\n",
              "      <th>0</th>\n",
              "      <td>Pesticides Use</td>\n",
              "      <td>Albania</td>\n",
              "      <td>Use</td>\n",
              "      <td>Pesticides (total)</td>\n",
              "      <td>1990</td>\n",
              "      <td>tonnes of active ingredients</td>\n",
              "      <td>121.0</td>\n",
              "    </tr>\n",
              "    <tr>\n",
              "      <th>1</th>\n",
              "      <td>Pesticides Use</td>\n",
              "      <td>Albania</td>\n",
              "      <td>Use</td>\n",
              "      <td>Pesticides (total)</td>\n",
              "      <td>1991</td>\n",
              "      <td>tonnes of active ingredients</td>\n",
              "      <td>121.0</td>\n",
              "    </tr>\n",
              "    <tr>\n",
              "      <th>2</th>\n",
              "      <td>Pesticides Use</td>\n",
              "      <td>Albania</td>\n",
              "      <td>Use</td>\n",
              "      <td>Pesticides (total)</td>\n",
              "      <td>1992</td>\n",
              "      <td>tonnes of active ingredients</td>\n",
              "      <td>121.0</td>\n",
              "    </tr>\n",
              "    <tr>\n",
              "      <th>3</th>\n",
              "      <td>Pesticides Use</td>\n",
              "      <td>Albania</td>\n",
              "      <td>Use</td>\n",
              "      <td>Pesticides (total)</td>\n",
              "      <td>1993</td>\n",
              "      <td>tonnes of active ingredients</td>\n",
              "      <td>121.0</td>\n",
              "    </tr>\n",
              "    <tr>\n",
              "      <th>4</th>\n",
              "      <td>Pesticides Use</td>\n",
              "      <td>Albania</td>\n",
              "      <td>Use</td>\n",
              "      <td>Pesticides (total)</td>\n",
              "      <td>1994</td>\n",
              "      <td>tonnes of active ingredients</td>\n",
              "      <td>201.0</td>\n",
              "    </tr>\n",
              "  </tbody>\n",
              "</table>\n",
              "</div>"
            ],
            "text/plain": [
              "           Domain     Area Element                Item  Year  \\\n",
              "0  Pesticides Use  Albania     Use  Pesticides (total)  1990   \n",
              "1  Pesticides Use  Albania     Use  Pesticides (total)  1991   \n",
              "2  Pesticides Use  Albania     Use  Pesticides (total)  1992   \n",
              "3  Pesticides Use  Albania     Use  Pesticides (total)  1993   \n",
              "4  Pesticides Use  Albania     Use  Pesticides (total)  1994   \n",
              "\n",
              "                           Unit  Value  \n",
              "0  tonnes of active ingredients  121.0  \n",
              "1  tonnes of active ingredients  121.0  \n",
              "2  tonnes of active ingredients  121.0  \n",
              "3  tonnes of active ingredients  121.0  \n",
              "4  tonnes of active ingredients  201.0  "
            ]
          },
          "execution_count": 19,
          "metadata": {},
          "output_type": "execute_result"
        }
      ],
      "source": [
        "df_pes = pd.read_csv(r\"C:\\Users\\Harsh Gupta\\OneDrive\\Desktop\\Capstone\\Project\\Dataset\\pesticides.csv\")\n",
        "df_pes.head()"
      ]
    },
    {
      "cell_type": "code",
      "execution_count": 20,
      "id": "14ddf9e9",
      "metadata": {
        "colab": {
          "base_uri": "https://localhost:8080/",
          "height": 206
        },
        "execution": {
          "iopub.execute_input": "2022-04-18T20:52:24.275681Z",
          "iopub.status.busy": "2022-04-18T20:52:24.274262Z",
          "iopub.status.idle": "2022-04-18T20:52:24.290186Z",
          "shell.execute_reply": "2022-04-18T20:52:24.290726Z",
          "shell.execute_reply.started": "2022-04-18T18:50:40.469681Z"
        },
        "id": "14ddf9e9",
        "outputId": "5e14d1b5-fe34-4e33-8d18-06b4df6a409f",
        "papermill": {
          "duration": 0.099813,
          "end_time": "2022-04-18T20:52:24.290910",
          "exception": false,
          "start_time": "2022-04-18T20:52:24.191097",
          "status": "completed"
        },
        "tags": []
      },
      "outputs": [
        {
          "data": {
            "text/html": [
              "<div>\n",
              "<style scoped>\n",
              "    .dataframe tbody tr th:only-of-type {\n",
              "        vertical-align: middle;\n",
              "    }\n",
              "\n",
              "    .dataframe tbody tr th {\n",
              "        vertical-align: top;\n",
              "    }\n",
              "\n",
              "    .dataframe thead th {\n",
              "        text-align: right;\n",
              "    }\n",
              "</style>\n",
              "<table border=\"1\" class=\"dataframe\">\n",
              "  <thead>\n",
              "    <tr style=\"text-align: right;\">\n",
              "      <th></th>\n",
              "      <th>Area</th>\n",
              "      <th>Year</th>\n",
              "      <th>pesticides_tonnes</th>\n",
              "    </tr>\n",
              "  </thead>\n",
              "  <tbody>\n",
              "    <tr>\n",
              "      <th>0</th>\n",
              "      <td>Albania</td>\n",
              "      <td>1990</td>\n",
              "      <td>121.0</td>\n",
              "    </tr>\n",
              "    <tr>\n",
              "      <th>1</th>\n",
              "      <td>Albania</td>\n",
              "      <td>1991</td>\n",
              "      <td>121.0</td>\n",
              "    </tr>\n",
              "    <tr>\n",
              "      <th>2</th>\n",
              "      <td>Albania</td>\n",
              "      <td>1992</td>\n",
              "      <td>121.0</td>\n",
              "    </tr>\n",
              "    <tr>\n",
              "      <th>3</th>\n",
              "      <td>Albania</td>\n",
              "      <td>1993</td>\n",
              "      <td>121.0</td>\n",
              "    </tr>\n",
              "    <tr>\n",
              "      <th>4</th>\n",
              "      <td>Albania</td>\n",
              "      <td>1994</td>\n",
              "      <td>201.0</td>\n",
              "    </tr>\n",
              "  </tbody>\n",
              "</table>\n",
              "</div>"
            ],
            "text/plain": [
              "      Area  Year  pesticides_tonnes\n",
              "0  Albania  1990              121.0\n",
              "1  Albania  1991              121.0\n",
              "2  Albania  1992              121.0\n",
              "3  Albania  1993              121.0\n",
              "4  Albania  1994              201.0"
            ]
          },
          "execution_count": 20,
          "metadata": {},
          "output_type": "execute_result"
        }
      ],
      "source": [
        "df_pes = df_pes.rename(index=str, columns={\"Value\": \"pesticides_tonnes\"})\n",
        "df_pes = df_pes.drop(['Element','Domain','Unit','Item'], axis=1)\n",
        "df_pes.head()"
      ]
    },
    {
      "cell_type": "code",
      "execution_count": 21,
      "id": "01a5d16c",
      "metadata": {
        "colab": {
          "base_uri": "https://localhost:8080/",
          "height": 300
        },
        "execution": {
          "iopub.execute_input": "2022-04-18T20:52:24.453293Z",
          "iopub.status.busy": "2022-04-18T20:52:24.452036Z",
          "iopub.status.idle": "2022-04-18T20:52:24.471456Z",
          "shell.execute_reply": "2022-04-18T20:52:24.470766Z",
          "shell.execute_reply.started": "2022-04-18T18:50:42.988505Z"
        },
        "id": "01a5d16c",
        "outputId": "73a47676-f8b4-4f66-fd06-b50ea82e9129",
        "papermill": {
          "duration": 0.101352,
          "end_time": "2022-04-18T20:52:24.471618",
          "exception": false,
          "start_time": "2022-04-18T20:52:24.370266",
          "status": "completed"
        },
        "scrolled": true,
        "tags": []
      },
      "outputs": [
        {
          "data": {
            "text/html": [
              "<div>\n",
              "<style scoped>\n",
              "    .dataframe tbody tr th:only-of-type {\n",
              "        vertical-align: middle;\n",
              "    }\n",
              "\n",
              "    .dataframe tbody tr th {\n",
              "        vertical-align: top;\n",
              "    }\n",
              "\n",
              "    .dataframe thead th {\n",
              "        text-align: right;\n",
              "    }\n",
              "</style>\n",
              "<table border=\"1\" class=\"dataframe\">\n",
              "  <thead>\n",
              "    <tr style=\"text-align: right;\">\n",
              "      <th></th>\n",
              "      <th>Year</th>\n",
              "      <th>pesticides_tonnes</th>\n",
              "    </tr>\n",
              "  </thead>\n",
              "  <tbody>\n",
              "    <tr>\n",
              "      <th>count</th>\n",
              "      <td>4349.000000</td>\n",
              "      <td>4.349000e+03</td>\n",
              "    </tr>\n",
              "    <tr>\n",
              "      <th>mean</th>\n",
              "      <td>2003.138883</td>\n",
              "      <td>2.030334e+04</td>\n",
              "    </tr>\n",
              "    <tr>\n",
              "      <th>std</th>\n",
              "      <td>7.728044</td>\n",
              "      <td>1.177362e+05</td>\n",
              "    </tr>\n",
              "    <tr>\n",
              "      <th>min</th>\n",
              "      <td>1990.000000</td>\n",
              "      <td>0.000000e+00</td>\n",
              "    </tr>\n",
              "    <tr>\n",
              "      <th>25%</th>\n",
              "      <td>1996.000000</td>\n",
              "      <td>9.300000e+01</td>\n",
              "    </tr>\n",
              "    <tr>\n",
              "      <th>50%</th>\n",
              "      <td>2003.000000</td>\n",
              "      <td>1.137560e+03</td>\n",
              "    </tr>\n",
              "    <tr>\n",
              "      <th>75%</th>\n",
              "      <td>2010.000000</td>\n",
              "      <td>7.869000e+03</td>\n",
              "    </tr>\n",
              "    <tr>\n",
              "      <th>max</th>\n",
              "      <td>2016.000000</td>\n",
              "      <td>1.807000e+06</td>\n",
              "    </tr>\n",
              "  </tbody>\n",
              "</table>\n",
              "</div>"
            ],
            "text/plain": [
              "              Year  pesticides_tonnes\n",
              "count  4349.000000       4.349000e+03\n",
              "mean   2003.138883       2.030334e+04\n",
              "std       7.728044       1.177362e+05\n",
              "min    1990.000000       0.000000e+00\n",
              "25%    1996.000000       9.300000e+01\n",
              "50%    2003.000000       1.137560e+03\n",
              "75%    2010.000000       7.869000e+03\n",
              "max    2016.000000       1.807000e+06"
            ]
          },
          "execution_count": 21,
          "metadata": {},
          "output_type": "execute_result"
        }
      ],
      "source": [
        "df_pes.describe()"
      ]
    },
    {
      "cell_type": "code",
      "execution_count": 22,
      "id": "41b3074d",
      "metadata": {
        "colab": {
          "base_uri": "https://localhost:8080/"
        },
        "execution": {
          "iopub.execute_input": "2022-04-18T20:52:24.638516Z",
          "iopub.status.busy": "2022-04-18T20:52:24.634371Z",
          "iopub.status.idle": "2022-04-18T20:52:24.647891Z",
          "shell.execute_reply": "2022-04-18T20:52:24.648465Z",
          "shell.execute_reply.started": "2022-04-18T18:50:49.931918Z"
        },
        "id": "41b3074d",
        "outputId": "c855109f-ac07-4169-9ce3-1050c304ab63",
        "papermill": {
          "duration": 0.095004,
          "end_time": "2022-04-18T20:52:24.648651",
          "exception": false,
          "start_time": "2022-04-18T20:52:24.553647",
          "status": "completed"
        },
        "tags": []
      },
      "outputs": [
        {
          "name": "stdout",
          "output_type": "stream",
          "text": [
            "<class 'pandas.core.frame.DataFrame'>\n",
            "Index: 4349 entries, 0 to 4348\n",
            "Data columns (total 3 columns):\n",
            " #   Column             Non-Null Count  Dtype  \n",
            "---  ------             --------------  -----  \n",
            " 0   Area               4349 non-null   object \n",
            " 1   Year               4349 non-null   int64  \n",
            " 2   pesticides_tonnes  4349 non-null   float64\n",
            "dtypes: float64(1), int64(1), object(1)\n",
            "memory usage: 135.9+ KB\n"
          ]
        }
      ],
      "source": [
        "df_pes.info()"
      ]
    },
    {
      "cell_type": "markdown",
      "id": "61dbe56f",
      "metadata": {
        "id": "61dbe56f",
        "papermill": {
          "duration": 0.08171,
          "end_time": "2022-04-18T20:52:24.809508",
          "exception": false,
          "start_time": "2022-04-18T20:52:24.727798",
          "status": "completed"
        },
        "tags": []
      },
      "source": [
        "Merge Pesticides dataframe with yield dataframe"
      ]
    },
    {
      "cell_type": "code",
      "execution_count": 23,
      "id": "655ef7a2",
      "metadata": {
        "colab": {
          "base_uri": "https://localhost:8080/"
        },
        "execution": {
          "iopub.execute_input": "2022-04-18T20:52:24.971976Z",
          "iopub.status.busy": "2022-04-18T20:52:24.970686Z",
          "iopub.status.idle": "2022-04-18T20:52:24.985714Z",
          "shell.execute_reply": "2022-04-18T20:52:24.984965Z",
          "shell.execute_reply.started": "2022-04-18T18:51:15.336665Z"
        },
        "id": "655ef7a2",
        "outputId": "93d35e2c-e75f-444a-b04b-f69c5d52336a",
        "papermill": {
          "duration": 0.098594,
          "end_time": "2022-04-18T20:52:24.985869",
          "exception": false,
          "start_time": "2022-04-18T20:52:24.887275",
          "status": "completed"
        },
        "tags": []
      },
      "outputs": [
        {
          "data": {
            "text/plain": [
              "(18949, 6)"
            ]
          },
          "execution_count": 23,
          "metadata": {},
          "output_type": "execute_result"
        }
      ],
      "source": [
        "yield_df = pd.merge(yield_df, df_pes, on=['Year','Area'])\n",
        "yield_df.shape"
      ]
    },
    {
      "cell_type": "code",
      "execution_count": 24,
      "id": "b7b9b4cd",
      "metadata": {
        "colab": {
          "base_uri": "https://localhost:8080/",
          "height": 206
        },
        "execution": {
          "iopub.execute_input": "2022-04-18T20:52:25.160830Z",
          "iopub.status.busy": "2022-04-18T20:52:25.159638Z",
          "iopub.status.idle": "2022-04-18T20:52:25.164237Z",
          "shell.execute_reply": "2022-04-18T20:52:25.163675Z",
          "shell.execute_reply.started": "2022-04-18T18:51:17.710906Z"
        },
        "id": "b7b9b4cd",
        "outputId": "61305751-3312-4902-bd2d-df886881ab88",
        "papermill": {
          "duration": 0.096718,
          "end_time": "2022-04-18T20:52:25.164393",
          "exception": false,
          "start_time": "2022-04-18T20:52:25.067675",
          "status": "completed"
        },
        "scrolled": true,
        "tags": []
      },
      "outputs": [
        {
          "data": {
            "text/html": [
              "<div>\n",
              "<style scoped>\n",
              "    .dataframe tbody tr th:only-of-type {\n",
              "        vertical-align: middle;\n",
              "    }\n",
              "\n",
              "    .dataframe tbody tr th {\n",
              "        vertical-align: top;\n",
              "    }\n",
              "\n",
              "    .dataframe thead th {\n",
              "        text-align: right;\n",
              "    }\n",
              "</style>\n",
              "<table border=\"1\" class=\"dataframe\">\n",
              "  <thead>\n",
              "    <tr style=\"text-align: right;\">\n",
              "      <th></th>\n",
              "      <th>Area</th>\n",
              "      <th>Item</th>\n",
              "      <th>Year</th>\n",
              "      <th>hg/ha_yield</th>\n",
              "      <th>average_rain_fall_mm_per_year</th>\n",
              "      <th>pesticides_tonnes</th>\n",
              "    </tr>\n",
              "  </thead>\n",
              "  <tbody>\n",
              "    <tr>\n",
              "      <th>0</th>\n",
              "      <td>Albania</td>\n",
              "      <td>Maize</td>\n",
              "      <td>1990</td>\n",
              "      <td>36613</td>\n",
              "      <td>1485.0</td>\n",
              "      <td>121.0</td>\n",
              "    </tr>\n",
              "    <tr>\n",
              "      <th>1</th>\n",
              "      <td>Albania</td>\n",
              "      <td>Potatoes</td>\n",
              "      <td>1990</td>\n",
              "      <td>66667</td>\n",
              "      <td>1485.0</td>\n",
              "      <td>121.0</td>\n",
              "    </tr>\n",
              "    <tr>\n",
              "      <th>2</th>\n",
              "      <td>Albania</td>\n",
              "      <td>Rice, paddy</td>\n",
              "      <td>1990</td>\n",
              "      <td>23333</td>\n",
              "      <td>1485.0</td>\n",
              "      <td>121.0</td>\n",
              "    </tr>\n",
              "    <tr>\n",
              "      <th>3</th>\n",
              "      <td>Albania</td>\n",
              "      <td>Sorghum</td>\n",
              "      <td>1990</td>\n",
              "      <td>12500</td>\n",
              "      <td>1485.0</td>\n",
              "      <td>121.0</td>\n",
              "    </tr>\n",
              "    <tr>\n",
              "      <th>4</th>\n",
              "      <td>Albania</td>\n",
              "      <td>Soybeans</td>\n",
              "      <td>1990</td>\n",
              "      <td>7000</td>\n",
              "      <td>1485.0</td>\n",
              "      <td>121.0</td>\n",
              "    </tr>\n",
              "  </tbody>\n",
              "</table>\n",
              "</div>"
            ],
            "text/plain": [
              "      Area         Item  Year  hg/ha_yield  average_rain_fall_mm_per_year  \\\n",
              "0  Albania        Maize  1990        36613                         1485.0   \n",
              "1  Albania     Potatoes  1990        66667                         1485.0   \n",
              "2  Albania  Rice, paddy  1990        23333                         1485.0   \n",
              "3  Albania      Sorghum  1990        12500                         1485.0   \n",
              "4  Albania     Soybeans  1990         7000                         1485.0   \n",
              "\n",
              "   pesticides_tonnes  \n",
              "0              121.0  \n",
              "1              121.0  \n",
              "2              121.0  \n",
              "3              121.0  \n",
              "4              121.0  "
            ]
          },
          "execution_count": 24,
          "metadata": {},
          "output_type": "execute_result"
        }
      ],
      "source": [
        "yield_df.head()"
      ]
    },
    {
      "cell_type": "markdown",
      "id": "fd6c5996",
      "metadata": {
        "id": "fd6c5996",
        "papermill": {
          "duration": 0.080494,
          "end_time": "2022-04-18T20:52:25.321685",
          "exception": false,
          "start_time": "2022-04-18T20:52:25.241191",
          "status": "completed"
        },
        "tags": []
      },
      "source": [
        "### Average Temprature:\n",
        "\n",
        "Average Temprature for each country was colleced from World Bank Data."
      ]
    },
    {
      "cell_type": "code",
      "execution_count": 25,
      "id": "caa90be0",
      "metadata": {
        "execution": {
          "iopub.execute_input": "2022-04-18T20:52:25.481894Z",
          "iopub.status.busy": "2022-04-18T20:52:25.481128Z",
          "iopub.status.idle": "2022-04-18T20:52:25.540758Z",
          "shell.execute_reply": "2022-04-18T20:52:25.540079Z",
          "shell.execute_reply.started": "2022-04-18T18:51:20.277691Z"
        },
        "id": "caa90be0",
        "papermill": {
          "duration": 0.142434,
          "end_time": "2022-04-18T20:52:25.540945",
          "exception": false,
          "start_time": "2022-04-18T20:52:25.398511",
          "status": "completed"
        },
        "tags": []
      },
      "outputs": [],
      "source": [
        "avg_temp=  pd.read_csv(r\"C:\\Users\\Harsh Gupta\\OneDrive\\Desktop\\Capstone\\Project\\Dataset\\temp.csv\")"
      ]
    },
    {
      "cell_type": "code",
      "execution_count": 26,
      "id": "adf38a5d",
      "metadata": {
        "colab": {
          "base_uri": "https://localhost:8080/",
          "height": 206
        },
        "execution": {
          "iopub.execute_input": "2022-04-18T20:52:25.707906Z",
          "iopub.status.busy": "2022-04-18T20:52:25.706909Z",
          "iopub.status.idle": "2022-04-18T20:52:25.710670Z",
          "shell.execute_reply": "2022-04-18T20:52:25.711199Z",
          "shell.execute_reply.started": "2022-04-18T18:51:24.633452Z"
        },
        "id": "adf38a5d",
        "outputId": "747ce979-578a-4a1a-8261-2ba63f21a8c1",
        "papermill": {
          "duration": 0.091918,
          "end_time": "2022-04-18T20:52:25.711397",
          "exception": false,
          "start_time": "2022-04-18T20:52:25.619479",
          "status": "completed"
        },
        "scrolled": true,
        "tags": []
      },
      "outputs": [
        {
          "data": {
            "text/html": [
              "<div>\n",
              "<style scoped>\n",
              "    .dataframe tbody tr th:only-of-type {\n",
              "        vertical-align: middle;\n",
              "    }\n",
              "\n",
              "    .dataframe tbody tr th {\n",
              "        vertical-align: top;\n",
              "    }\n",
              "\n",
              "    .dataframe thead th {\n",
              "        text-align: right;\n",
              "    }\n",
              "</style>\n",
              "<table border=\"1\" class=\"dataframe\">\n",
              "  <thead>\n",
              "    <tr style=\"text-align: right;\">\n",
              "      <th></th>\n",
              "      <th>year</th>\n",
              "      <th>country</th>\n",
              "      <th>avg_temp</th>\n",
              "    </tr>\n",
              "  </thead>\n",
              "  <tbody>\n",
              "    <tr>\n",
              "      <th>0</th>\n",
              "      <td>1849</td>\n",
              "      <td>Côte D'Ivoire</td>\n",
              "      <td>25.58</td>\n",
              "    </tr>\n",
              "    <tr>\n",
              "      <th>1</th>\n",
              "      <td>1850</td>\n",
              "      <td>Côte D'Ivoire</td>\n",
              "      <td>25.52</td>\n",
              "    </tr>\n",
              "    <tr>\n",
              "      <th>2</th>\n",
              "      <td>1851</td>\n",
              "      <td>Côte D'Ivoire</td>\n",
              "      <td>25.67</td>\n",
              "    </tr>\n",
              "    <tr>\n",
              "      <th>3</th>\n",
              "      <td>1852</td>\n",
              "      <td>Côte D'Ivoire</td>\n",
              "      <td>NaN</td>\n",
              "    </tr>\n",
              "    <tr>\n",
              "      <th>4</th>\n",
              "      <td>1853</td>\n",
              "      <td>Côte D'Ivoire</td>\n",
              "      <td>NaN</td>\n",
              "    </tr>\n",
              "  </tbody>\n",
              "</table>\n",
              "</div>"
            ],
            "text/plain": [
              "   year        country  avg_temp\n",
              "0  1849  Côte D'Ivoire     25.58\n",
              "1  1850  Côte D'Ivoire     25.52\n",
              "2  1851  Côte D'Ivoire     25.67\n",
              "3  1852  Côte D'Ivoire       NaN\n",
              "4  1853  Côte D'Ivoire       NaN"
            ]
          },
          "execution_count": 26,
          "metadata": {},
          "output_type": "execute_result"
        }
      ],
      "source": [
        "avg_temp.head()"
      ]
    },
    {
      "cell_type": "code",
      "execution_count": 27,
      "id": "d21bff69",
      "metadata": {
        "colab": {
          "base_uri": "https://localhost:8080/",
          "height": 300
        },
        "execution": {
          "iopub.execute_input": "2022-04-18T20:52:25.878616Z",
          "iopub.status.busy": "2022-04-18T20:52:25.877239Z",
          "iopub.status.idle": "2022-04-18T20:52:25.895867Z",
          "shell.execute_reply": "2022-04-18T20:52:25.896404Z",
          "shell.execute_reply.started": "2022-04-18T18:51:28.158562Z"
        },
        "id": "d21bff69",
        "outputId": "c192fdb1-7c4f-486a-f108-833d7e138bc1",
        "papermill": {
          "duration": 0.107775,
          "end_time": "2022-04-18T20:52:25.896620",
          "exception": false,
          "start_time": "2022-04-18T20:52:25.788845",
          "status": "completed"
        },
        "scrolled": true,
        "tags": []
      },
      "outputs": [
        {
          "data": {
            "text/html": [
              "<div>\n",
              "<style scoped>\n",
              "    .dataframe tbody tr th:only-of-type {\n",
              "        vertical-align: middle;\n",
              "    }\n",
              "\n",
              "    .dataframe tbody tr th {\n",
              "        vertical-align: top;\n",
              "    }\n",
              "\n",
              "    .dataframe thead th {\n",
              "        text-align: right;\n",
              "    }\n",
              "</style>\n",
              "<table border=\"1\" class=\"dataframe\">\n",
              "  <thead>\n",
              "    <tr style=\"text-align: right;\">\n",
              "      <th></th>\n",
              "      <th>year</th>\n",
              "      <th>avg_temp</th>\n",
              "    </tr>\n",
              "  </thead>\n",
              "  <tbody>\n",
              "    <tr>\n",
              "      <th>count</th>\n",
              "      <td>71311.000000</td>\n",
              "      <td>68764.000000</td>\n",
              "    </tr>\n",
              "    <tr>\n",
              "      <th>mean</th>\n",
              "      <td>1905.799007</td>\n",
              "      <td>16.183876</td>\n",
              "    </tr>\n",
              "    <tr>\n",
              "      <th>std</th>\n",
              "      <td>67.102099</td>\n",
              "      <td>7.592960</td>\n",
              "    </tr>\n",
              "    <tr>\n",
              "      <th>min</th>\n",
              "      <td>1743.000000</td>\n",
              "      <td>-14.350000</td>\n",
              "    </tr>\n",
              "    <tr>\n",
              "      <th>25%</th>\n",
              "      <td>1858.000000</td>\n",
              "      <td>9.750000</td>\n",
              "    </tr>\n",
              "    <tr>\n",
              "      <th>50%</th>\n",
              "      <td>1910.000000</td>\n",
              "      <td>16.140000</td>\n",
              "    </tr>\n",
              "    <tr>\n",
              "      <th>75%</th>\n",
              "      <td>1962.000000</td>\n",
              "      <td>23.762500</td>\n",
              "    </tr>\n",
              "    <tr>\n",
              "      <th>max</th>\n",
              "      <td>2013.000000</td>\n",
              "      <td>30.730000</td>\n",
              "    </tr>\n",
              "  </tbody>\n",
              "</table>\n",
              "</div>"
            ],
            "text/plain": [
              "               year      avg_temp\n",
              "count  71311.000000  68764.000000\n",
              "mean    1905.799007     16.183876\n",
              "std       67.102099      7.592960\n",
              "min     1743.000000    -14.350000\n",
              "25%     1858.000000      9.750000\n",
              "50%     1910.000000     16.140000\n",
              "75%     1962.000000     23.762500\n",
              "max     2013.000000     30.730000"
            ]
          },
          "execution_count": 27,
          "metadata": {},
          "output_type": "execute_result"
        }
      ],
      "source": [
        "avg_temp.describe()"
      ]
    },
    {
      "cell_type": "markdown",
      "id": "3ab65785",
      "metadata": {
        "id": "3ab65785",
        "papermill": {
          "duration": 0.081411,
          "end_time": "2022-04-18T20:52:26.057061",
          "exception": false,
          "start_time": "2022-04-18T20:52:25.975650",
          "status": "completed"
        },
        "tags": []
      },
      "source": [
        "So average temprature starts from 1743 and ends at 2013, with some empty rows that we have to drop."
      ]
    },
    {
      "cell_type": "code",
      "execution_count": 28,
      "id": "66a3e0d6",
      "metadata": {
        "colab": {
          "base_uri": "https://localhost:8080/",
          "height": 206
        },
        "execution": {
          "iopub.execute_input": "2022-04-18T20:52:26.218010Z",
          "iopub.status.busy": "2022-04-18T20:52:26.216838Z",
          "iopub.status.idle": "2022-04-18T20:52:26.259604Z",
          "shell.execute_reply": "2022-04-18T20:52:26.260192Z",
          "shell.execute_reply.started": "2022-04-18T18:51:34.977244Z"
        },
        "id": "66a3e0d6",
        "outputId": "69829c8c-7655-407f-f473-4287118999fa",
        "papermill": {
          "duration": 0.124829,
          "end_time": "2022-04-18T20:52:26.260402",
          "exception": false,
          "start_time": "2022-04-18T20:52:26.135573",
          "status": "completed"
        },
        "scrolled": true,
        "tags": []
      },
      "outputs": [
        {
          "data": {
            "text/html": [
              "<div>\n",
              "<style scoped>\n",
              "    .dataframe tbody tr th:only-of-type {\n",
              "        vertical-align: middle;\n",
              "    }\n",
              "\n",
              "    .dataframe tbody tr th {\n",
              "        vertical-align: top;\n",
              "    }\n",
              "\n",
              "    .dataframe thead th {\n",
              "        text-align: right;\n",
              "    }\n",
              "</style>\n",
              "<table border=\"1\" class=\"dataframe\">\n",
              "  <thead>\n",
              "    <tr style=\"text-align: right;\">\n",
              "      <th></th>\n",
              "      <th>Year</th>\n",
              "      <th>Area</th>\n",
              "      <th>avg_temp</th>\n",
              "    </tr>\n",
              "  </thead>\n",
              "  <tbody>\n",
              "    <tr>\n",
              "      <th>0</th>\n",
              "      <td>1849</td>\n",
              "      <td>Côte D'Ivoire</td>\n",
              "      <td>25.58</td>\n",
              "    </tr>\n",
              "    <tr>\n",
              "      <th>1</th>\n",
              "      <td>1850</td>\n",
              "      <td>Côte D'Ivoire</td>\n",
              "      <td>25.52</td>\n",
              "    </tr>\n",
              "    <tr>\n",
              "      <th>2</th>\n",
              "      <td>1851</td>\n",
              "      <td>Côte D'Ivoire</td>\n",
              "      <td>25.67</td>\n",
              "    </tr>\n",
              "    <tr>\n",
              "      <th>3</th>\n",
              "      <td>1852</td>\n",
              "      <td>Côte D'Ivoire</td>\n",
              "      <td>NaN</td>\n",
              "    </tr>\n",
              "    <tr>\n",
              "      <th>4</th>\n",
              "      <td>1853</td>\n",
              "      <td>Côte D'Ivoire</td>\n",
              "      <td>NaN</td>\n",
              "    </tr>\n",
              "  </tbody>\n",
              "</table>\n",
              "</div>"
            ],
            "text/plain": [
              "   Year           Area  avg_temp\n",
              "0  1849  Côte D'Ivoire     25.58\n",
              "1  1850  Côte D'Ivoire     25.52\n",
              "2  1851  Côte D'Ivoire     25.67\n",
              "3  1852  Côte D'Ivoire       NaN\n",
              "4  1853  Côte D'Ivoire       NaN"
            ]
          },
          "execution_count": 28,
          "metadata": {},
          "output_type": "execute_result"
        }
      ],
      "source": [
        "avg_temp = avg_temp.rename(index=str, columns={\"year\": \"Year\", \"country\":'Area'})\n",
        "avg_temp.head()"
      ]
    },
    {
      "cell_type": "code",
      "execution_count": 29,
      "id": "87c00f49",
      "metadata": {
        "colab": {
          "base_uri": "https://localhost:8080/",
          "height": 206
        },
        "execution": {
          "iopub.execute_input": "2022-04-18T20:52:26.425002Z",
          "iopub.status.busy": "2022-04-18T20:52:26.423814Z",
          "iopub.status.idle": "2022-04-18T20:52:26.462903Z",
          "shell.execute_reply": "2022-04-18T20:52:26.463551Z",
          "shell.execute_reply.started": "2022-04-18T18:51:37.796712Z"
        },
        "id": "87c00f49",
        "outputId": "63e9d284-92be-4e2b-df19-46e9168ea6d3",
        "papermill": {
          "duration": 0.123433,
          "end_time": "2022-04-18T20:52:26.463757",
          "exception": false,
          "start_time": "2022-04-18T20:52:26.340324",
          "status": "completed"
        },
        "scrolled": true,
        "tags": []
      },
      "outputs": [
        {
          "data": {
            "text/html": [
              "<div>\n",
              "<style scoped>\n",
              "    .dataframe tbody tr th:only-of-type {\n",
              "        vertical-align: middle;\n",
              "    }\n",
              "\n",
              "    .dataframe tbody tr th {\n",
              "        vertical-align: top;\n",
              "    }\n",
              "\n",
              "    .dataframe thead th {\n",
              "        text-align: right;\n",
              "    }\n",
              "</style>\n",
              "<table border=\"1\" class=\"dataframe\">\n",
              "  <thead>\n",
              "    <tr style=\"text-align: right;\">\n",
              "      <th></th>\n",
              "      <th>Area</th>\n",
              "      <th>Item</th>\n",
              "      <th>Year</th>\n",
              "      <th>hg/ha_yield</th>\n",
              "      <th>average_rain_fall_mm_per_year</th>\n",
              "      <th>pesticides_tonnes</th>\n",
              "      <th>avg_temp</th>\n",
              "    </tr>\n",
              "  </thead>\n",
              "  <tbody>\n",
              "    <tr>\n",
              "      <th>0</th>\n",
              "      <td>Albania</td>\n",
              "      <td>Maize</td>\n",
              "      <td>1990</td>\n",
              "      <td>36613</td>\n",
              "      <td>1485.0</td>\n",
              "      <td>121.0</td>\n",
              "      <td>16.37</td>\n",
              "    </tr>\n",
              "    <tr>\n",
              "      <th>1</th>\n",
              "      <td>Albania</td>\n",
              "      <td>Potatoes</td>\n",
              "      <td>1990</td>\n",
              "      <td>66667</td>\n",
              "      <td>1485.0</td>\n",
              "      <td>121.0</td>\n",
              "      <td>16.37</td>\n",
              "    </tr>\n",
              "    <tr>\n",
              "      <th>2</th>\n",
              "      <td>Albania</td>\n",
              "      <td>Rice, paddy</td>\n",
              "      <td>1990</td>\n",
              "      <td>23333</td>\n",
              "      <td>1485.0</td>\n",
              "      <td>121.0</td>\n",
              "      <td>16.37</td>\n",
              "    </tr>\n",
              "    <tr>\n",
              "      <th>3</th>\n",
              "      <td>Albania</td>\n",
              "      <td>Sorghum</td>\n",
              "      <td>1990</td>\n",
              "      <td>12500</td>\n",
              "      <td>1485.0</td>\n",
              "      <td>121.0</td>\n",
              "      <td>16.37</td>\n",
              "    </tr>\n",
              "    <tr>\n",
              "      <th>4</th>\n",
              "      <td>Albania</td>\n",
              "      <td>Soybeans</td>\n",
              "      <td>1990</td>\n",
              "      <td>7000</td>\n",
              "      <td>1485.0</td>\n",
              "      <td>121.0</td>\n",
              "      <td>16.37</td>\n",
              "    </tr>\n",
              "  </tbody>\n",
              "</table>\n",
              "</div>"
            ],
            "text/plain": [
              "      Area         Item  Year  hg/ha_yield  average_rain_fall_mm_per_year  \\\n",
              "0  Albania        Maize  1990        36613                         1485.0   \n",
              "1  Albania     Potatoes  1990        66667                         1485.0   \n",
              "2  Albania  Rice, paddy  1990        23333                         1485.0   \n",
              "3  Albania      Sorghum  1990        12500                         1485.0   \n",
              "4  Albania     Soybeans  1990         7000                         1485.0   \n",
              "\n",
              "   pesticides_tonnes  avg_temp  \n",
              "0              121.0     16.37  \n",
              "1              121.0     16.37  \n",
              "2              121.0     16.37  \n",
              "3              121.0     16.37  \n",
              "4              121.0     16.37  "
            ]
          },
          "execution_count": 29,
          "metadata": {},
          "output_type": "execute_result"
        }
      ],
      "source": [
        "yield_df = pd.merge(yield_df,avg_temp, on=['Area','Year'])\n",
        "yield_df.head()"
      ]
    },
    {
      "cell_type": "code",
      "execution_count": 30,
      "id": "aed95268",
      "metadata": {
        "colab": {
          "base_uri": "https://localhost:8080/"
        },
        "execution": {
          "iopub.execute_input": "2022-04-18T20:52:26.627599Z",
          "iopub.status.busy": "2022-04-18T20:52:26.626408Z",
          "iopub.status.idle": "2022-04-18T20:52:26.632674Z",
          "shell.execute_reply": "2022-04-18T20:52:26.633241Z",
          "shell.execute_reply.started": "2022-04-18T18:51:40.626638Z"
        },
        "id": "aed95268",
        "outputId": "0f5d9609-ffa6-4edb-fff7-f2047a1f08d1",
        "papermill": {
          "duration": 0.089263,
          "end_time": "2022-04-18T20:52:26.633457",
          "exception": false,
          "start_time": "2022-04-18T20:52:26.544194",
          "status": "completed"
        },
        "tags": []
      },
      "outputs": [
        {
          "data": {
            "text/plain": [
              "(28242, 7)"
            ]
          },
          "execution_count": 30,
          "metadata": {},
          "output_type": "execute_result"
        }
      ],
      "source": [
        "yield_df.shape"
      ]
    },
    {
      "cell_type": "code",
      "execution_count": 31,
      "id": "5d4ad1e7",
      "metadata": {
        "colab": {
          "base_uri": "https://localhost:8080/",
          "height": 300
        },
        "execution": {
          "iopub.execute_input": "2022-04-18T20:52:26.800661Z",
          "iopub.status.busy": "2022-04-18T20:52:26.799353Z",
          "iopub.status.idle": "2022-04-18T20:52:26.832175Z",
          "shell.execute_reply": "2022-04-18T20:52:26.832774Z",
          "shell.execute_reply.started": "2022-04-18T18:51:43.100890Z"
        },
        "id": "5d4ad1e7",
        "outputId": "62ffa447-7f42-4788-ee39-7e7c87db2a8f",
        "papermill": {
          "duration": 0.11969,
          "end_time": "2022-04-18T20:52:26.832979",
          "exception": false,
          "start_time": "2022-04-18T20:52:26.713289",
          "status": "completed"
        },
        "tags": []
      },
      "outputs": [
        {
          "data": {
            "text/html": [
              "<div>\n",
              "<style scoped>\n",
              "    .dataframe tbody tr th:only-of-type {\n",
              "        vertical-align: middle;\n",
              "    }\n",
              "\n",
              "    .dataframe tbody tr th {\n",
              "        vertical-align: top;\n",
              "    }\n",
              "\n",
              "    .dataframe thead th {\n",
              "        text-align: right;\n",
              "    }\n",
              "</style>\n",
              "<table border=\"1\" class=\"dataframe\">\n",
              "  <thead>\n",
              "    <tr style=\"text-align: right;\">\n",
              "      <th></th>\n",
              "      <th>Year</th>\n",
              "      <th>hg/ha_yield</th>\n",
              "      <th>average_rain_fall_mm_per_year</th>\n",
              "      <th>pesticides_tonnes</th>\n",
              "      <th>avg_temp</th>\n",
              "    </tr>\n",
              "  </thead>\n",
              "  <tbody>\n",
              "    <tr>\n",
              "      <th>count</th>\n",
              "      <td>28242.000000</td>\n",
              "      <td>28242.000000</td>\n",
              "      <td>28242.00000</td>\n",
              "      <td>28242.000000</td>\n",
              "      <td>28242.000000</td>\n",
              "    </tr>\n",
              "    <tr>\n",
              "      <th>mean</th>\n",
              "      <td>2001.544296</td>\n",
              "      <td>77053.332094</td>\n",
              "      <td>1149.05598</td>\n",
              "      <td>37076.909344</td>\n",
              "      <td>20.542627</td>\n",
              "    </tr>\n",
              "    <tr>\n",
              "      <th>std</th>\n",
              "      <td>7.051905</td>\n",
              "      <td>84956.612897</td>\n",
              "      <td>709.81215</td>\n",
              "      <td>59958.784665</td>\n",
              "      <td>6.312051</td>\n",
              "    </tr>\n",
              "    <tr>\n",
              "      <th>min</th>\n",
              "      <td>1990.000000</td>\n",
              "      <td>50.000000</td>\n",
              "      <td>51.00000</td>\n",
              "      <td>0.040000</td>\n",
              "      <td>1.300000</td>\n",
              "    </tr>\n",
              "    <tr>\n",
              "      <th>25%</th>\n",
              "      <td>1995.000000</td>\n",
              "      <td>19919.250000</td>\n",
              "      <td>593.00000</td>\n",
              "      <td>1702.000000</td>\n",
              "      <td>16.702500</td>\n",
              "    </tr>\n",
              "    <tr>\n",
              "      <th>50%</th>\n",
              "      <td>2001.000000</td>\n",
              "      <td>38295.000000</td>\n",
              "      <td>1083.00000</td>\n",
              "      <td>17529.440000</td>\n",
              "      <td>21.510000</td>\n",
              "    </tr>\n",
              "    <tr>\n",
              "      <th>75%</th>\n",
              "      <td>2008.000000</td>\n",
              "      <td>104676.750000</td>\n",
              "      <td>1668.00000</td>\n",
              "      <td>48687.880000</td>\n",
              "      <td>26.000000</td>\n",
              "    </tr>\n",
              "    <tr>\n",
              "      <th>max</th>\n",
              "      <td>2013.000000</td>\n",
              "      <td>501412.000000</td>\n",
              "      <td>3240.00000</td>\n",
              "      <td>367778.000000</td>\n",
              "      <td>30.650000</td>\n",
              "    </tr>\n",
              "  </tbody>\n",
              "</table>\n",
              "</div>"
            ],
            "text/plain": [
              "               Year    hg/ha_yield  average_rain_fall_mm_per_year  \\\n",
              "count  28242.000000   28242.000000                    28242.00000   \n",
              "mean    2001.544296   77053.332094                     1149.05598   \n",
              "std        7.051905   84956.612897                      709.81215   \n",
              "min     1990.000000      50.000000                       51.00000   \n",
              "25%     1995.000000   19919.250000                      593.00000   \n",
              "50%     2001.000000   38295.000000                     1083.00000   \n",
              "75%     2008.000000  104676.750000                     1668.00000   \n",
              "max     2013.000000  501412.000000                     3240.00000   \n",
              "\n",
              "       pesticides_tonnes      avg_temp  \n",
              "count       28242.000000  28242.000000  \n",
              "mean        37076.909344     20.542627  \n",
              "std         59958.784665      6.312051  \n",
              "min             0.040000      1.300000  \n",
              "25%          1702.000000     16.702500  \n",
              "50%         17529.440000     21.510000  \n",
              "75%         48687.880000     26.000000  \n",
              "max        367778.000000     30.650000  "
            ]
          },
          "execution_count": 31,
          "metadata": {},
          "output_type": "execute_result"
        }
      ],
      "source": [
        "yield_df.describe()"
      ]
    },
    {
      "cell_type": "code",
      "execution_count": 32,
      "id": "e1046c29",
      "metadata": {
        "colab": {
          "base_uri": "https://localhost:8080/"
        },
        "execution": {
          "iopub.execute_input": "2022-04-18T20:52:27Z",
          "iopub.status.busy": "2022-04-18T20:52:26.998854Z",
          "iopub.status.idle": "2022-04-18T20:52:27.015476Z",
          "shell.execute_reply": "2022-04-18T20:52:27.016095Z",
          "shell.execute_reply.started": "2022-04-18T18:51:45.839099Z"
        },
        "id": "e1046c29",
        "outputId": "2b921daf-0424-4f12-a805-c3f4081ca03b",
        "papermill": {
          "duration": 0.103353,
          "end_time": "2022-04-18T20:52:27.016311",
          "exception": false,
          "start_time": "2022-04-18T20:52:26.912958",
          "status": "completed"
        },
        "scrolled": true,
        "tags": []
      },
      "outputs": [
        {
          "data": {
            "text/plain": [
              "Area                             0\n",
              "Item                             0\n",
              "Year                             0\n",
              "hg/ha_yield                      0\n",
              "average_rain_fall_mm_per_year    0\n",
              "pesticides_tonnes                0\n",
              "avg_temp                         0\n",
              "dtype: int64"
            ]
          },
          "execution_count": 32,
          "metadata": {},
          "output_type": "execute_result"
        }
      ],
      "source": [
        "yield_df.isnull().sum()"
      ]
    },
    {
      "cell_type": "markdown",
      "id": "78822b10",
      "metadata": {
        "id": "78822b10",
        "papermill": {
          "duration": 0.079819,
          "end_time": "2022-04-18T20:52:27.182481",
          "exception": false,
          "start_time": "2022-04-18T20:52:27.102662",
          "status": "completed"
        },
        "tags": []
      },
      "source": [
        "Great, no empty values!"
      ]
    },
    {
      "cell_type": "markdown",
      "id": "yrutOiEZoJko",
      "metadata": {
        "id": "yrutOiEZoJko"
      },
      "source": [
        "Yield_df.csv is final dataset processed by cleaning & merging of pesticides, yield, rainfall & avg. temperature."
      ]
    },
    {
      "cell_type": "code",
      "execution_count": 34,
      "id": "hGP4f0Pan8iF",
      "metadata": {
        "id": "hGP4f0Pan8iF"
      },
      "outputs": [],
      "source": [
        "yield_df.to_csv('Dataset/yield_df.csv', index=False)"
      ]
    }
  ],
  "metadata": {
    "colab": {
      "provenance": []
    },
    "kernelspec": {
      "display_name": "Python 3",
      "language": "python",
      "name": "python3"
    },
    "language_info": {
      "codemirror_mode": {
        "name": "ipython",
        "version": 3
      },
      "file_extension": ".py",
      "mimetype": "text/x-python",
      "name": "python",
      "nbconvert_exporter": "python",
      "pygments_lexer": "ipython3",
      "version": "3.10.0"
    },
    "papermill": {
      "default_parameters": {},
      "duration": 36.21319,
      "end_time": "2022-04-18T20:52:44.344078",
      "environment_variables": {},
      "exception": null,
      "input_path": "__notebook__.ipynb",
      "output_path": "__notebook__.ipynb",
      "parameters": {},
      "start_time": "2022-04-18T20:52:08.130888",
      "version": "2.3.3"
    }
  },
  "nbformat": 4,
  "nbformat_minor": 5
}
